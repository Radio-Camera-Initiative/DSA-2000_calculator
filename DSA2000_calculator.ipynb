{
 "cells": [
  {
   "cell_type": "markdown",
   "metadata": {},
   "source": [
    "# Calculator for common DSA-2000 Questions\n",
    "\n",
    "## Casey Law, claw@astro.caltech.edu\n",
    "\n",
    "Written in support of DSA-2000 science workshop (January 2022). Reproduces work by Steve Myers for VLASS and DSA-2000 survey design."
   ]
  },
  {
   "cell_type": "code",
   "execution_count": 1,
   "metadata": {
    "execution": {
     "iopub.execute_input": "2022-01-14T16:59:25.172Z",
     "iopub.status.busy": "2022-01-14T16:59:25.165Z",
     "iopub.status.idle": "2022-01-14T16:59:25.188Z",
     "shell.execute_reply": "2022-01-14T16:59:25.573Z"
    }
   },
   "outputs": [],
   "source": [
    "%matplotlib inline\n",
    "\n",
    "import pylab as pl\n",
    "import numpy as np\n",
    "import healpy"
   ]
  },
  {
   "cell_type": "markdown",
   "metadata": {},
   "source": [
    "## Define some useful functions\n"
   ]
  },
  {
   "cell_type": "code",
   "execution_count": 2,
   "metadata": {
    "execution": {
     "iopub.execute_input": "2022-01-14T16:59:25.249Z",
     "iopub.status.busy": "2022-01-14T16:59:25.241Z",
     "iopub.status.idle": "2022-01-14T16:59:25.261Z",
     "shell.execute_reply": "2022-01-14T16:59:25.578Z"
    }
   },
   "outputs": [],
   "source": [
    "resolution = lambda freq, bmax: 1.22*3600*np.degrees(3e8/float(freq)/bmax) # resolution in asec for freq in Hz, bmax in meters\n",
    "sensitivity = lambda sefd, dt, bw, eta, nbl: sefd/(eta*np.sqrt(nbl*2 * dt * bw * 2))    # sefd in Jy, dt in s, bw in Hz, assumes std correlator eficiency and 2 pols\n",
    "tobs = lambda s0, sefd, na, bw, eta: (sefd/(s0*eta))**2/(na*(na-1)*bw*2)    # obsering time in s (inverse of sensitivity eqn)\n",
    "area_field = lambda fov: 0.5665 * fov**2  # fov in amin\n",
    "surveyspeed = lambda fov, t0: area_field(fov)/t0         # ss in deg2/hr, fov in amin, t0 is time per pointing in s\n",
    "f_beam = lambda rad, fwhm: np.exp(-4*np.log(2)*(rad/fwhm)**2)  # beam function (fractional power at radius rad)\n",
    "\n",
    "datarate_vis = lambda na, nch, npol, tsamp: (na*(na-1)/2)*nch*npol*8/tsamp/1024**2  # MB/s for tsamp in s\n",
    "datarate_vis_vla = lambda tsamp, nspw: 45*(nspw*64*4/16384.) / tsamp # scaling taken from nrao oss, minimal nchan, full pol"
   ]
  },
  {
   "cell_type": "code",
   "execution_count": 3,
   "metadata": {
    "execution": {
     "iopub.execute_input": "2022-01-14T16:59:25.294Z",
     "iopub.status.busy": "2022-01-14T16:59:25.283Z",
     "iopub.status.idle": "2022-01-14T16:59:25.317Z",
     "shell.execute_reply": "2022-01-14T16:59:25.580Z"
    },
    "jupyter": {
     "outputs_hidden": false,
     "source_hidden": false
    },
    "nteract": {
     "transient": {
      "deleting": false
     }
    }
   },
   "outputs": [],
   "source": [
    "ess_nu = lambda fov, tobs, nu, alpha: surveyspeed(fov, tobs) * nu**(2*alpha)\n",
    "ess_flux = lambda fov, tobs, sensitivity, gamma: surveyspeed(fov, tobs) * sensitivity**(gamma+2)\n",
    "ess_nuflux = lambda fov, tobs, nu, alpha, sensitivity, gamma: surveyspeed(fov, tobs) * sensitivity**(gamma+2) * nu**(2*alpha)\n",
    "surveytime = lambda band, sensitivity, area, overhead: overhead * area/surveyspeed(fov[band], tobs(sensitivity, sefd[band], na[band], bw_max[band], eta[band]))   # total time in hours for given band, area in sq deg and sensitivity in Jy\n",
    "\n",
    "# Effective survey speed for extragalactic specs (alpha = -0.7, gamma => euclidean).\n",
    "ess_eg = lambda fov, dt, nu, sensitivity: ess_nuflux(fov, dt, nu, -0.7, sensitivity, -1.5)\n",
    "sigma_confusion = lambda nu, theta: 1.2e-6*(nu/3.02e9)**(-0.7)*(theta/8)**(10/3)  # confusion with freq in Hz, theta in asec\n",
    "survey_area = lambda dec_lim: (1+np.sin(np.radians(np.abs(dec_lim))))*(2*np.pi*(180/np.pi)**2)  # sq deg, exclude outside dec_lim"
   ]
  },
  {
   "cell_type": "code",
   "execution_count": 4,
   "metadata": {},
   "outputs": [],
   "source": [
    "def find_hpnside(size, verbose=False):\n",
    "    \"\"\" Use healpix scheme to find optimal nsize for a given size in degrees\n",
    "    \"\"\"\n",
    "    for i in range(20):\n",
    "        resol = np.degrees(healpy.nside2resol(2**i))\n",
    "        if resol < size:\n",
    "            if verbose:\n",
    "                print(f'nside=2**{i} has resolution of {resol:1.1e} deg (resolves limit of {size} deg)')\n",
    "            break\n",
    "    return 2**i"
   ]
  },
  {
   "cell_type": "markdown",
   "metadata": {},
   "source": [
    "## Set telescope parameters as a function of band/config"
   ]
  },
  {
   "cell_type": "code",
   "execution_count": 5,
   "metadata": {
    "execution": {
     "iopub.execute_input": "2022-01-14T16:59:25.217Z",
     "iopub.status.busy": "2022-01-14T16:59:25.200Z",
     "iopub.status.idle": "2022-01-14T16:59:25.234Z",
     "shell.execute_reply": "2022-01-14T16:59:25.576Z"
    }
   },
   "outputs": [],
   "source": [
    "# keys defined for configurations and bands separately.\n",
    "names = ['DSA', 'VLA', 'ASKAP']\n",
    "na = {'DSA': 2000, 'VLA': 27, 'ASKAP': 36}   # number of antennas\n",
    "freq = {'DSA': 1.35e9, 'VLA': 3.0e9, 'ASKAP': 1.28e9}  # band center\n",
    "fov = {'DSA': 60*3.06, 'VLA': 15., 'ASKAP': 60*3.}    # fwhm field of view (theta_pb) in arcminutes\n",
    "bw_max = {'DSA': 0.65*1.3e9, 'VLA': 1.5e9, 'ASKAP': 288e6}    # bandwidth (minus RFI)\n",
    "bmax = {'DSA': 17e3, 'VLAB': 11.1e3, 'ASKAP': 6e3}    # longest baselines in meter\n",
    "sefd = {'DSA': 5020, 'VLA': 370, 'ASKAP': 1952}    # array SEFD\n",
    "# VLA sefd values appear high, because we assume 27 ants, whereas exposure calculator uses 25 ants. result is the same in both cases.\n",
    "eta = {'DSA': 1.0, 'VLA': 0.92, 'ASKAP': 1.0}   # correlator efficiency\n",
    "surveyspecs = {'DSA All-Sky': [3e4, 2.04e-6, 1.25, 1.0],\n",
    "               'VLASS': [3.3885e4, 122e-6, 1.17, 1.09],\n",
    "               'ASKAP EMU': [3.0939e4, 10e-6, 1.25, 1.0]}  # something wrong with ASKAP numbers"
   ]
  },
  {
   "cell_type": "markdown",
   "metadata": {},
   "source": [
    "# Q&A"
   ]
  },
  {
   "cell_type": "markdown",
   "metadata": {},
   "source": [
    "### Given sensitivity/area, what is the cadence?"
   ]
  },
  {
   "cell_type": "code",
   "execution_count": 6,
   "metadata": {},
   "outputs": [
    {
     "name": "stdout",
     "output_type": "stream",
     "text": [
      "1831 hrs to cover 30000 sq deg to depth of 2.0e-06 Jy with 15.6 epochs in 5.0 years\n"
     ]
    }
   ],
   "source": [
    "s0 = 2e-6\n",
    "a0 = 3e4\n",
    "o0 = 1.25\n",
    "t_total = 5 * 365.24 * 24  # 5 years in hrs\n",
    "frac_survey = 0.65\n",
    "t_epoch = surveytime('DSA', s0, a0, o0)\n",
    "print(f'{t_epoch:.0f} hrs to cover {a0:.0f} sq deg to depth of {s0:.1e} Jy with {frac_survey*t_total/t_epoch:.1f} epochs in {t_total/(24*365.24):.1f} years')"
   ]
  },
  {
   "cell_type": "markdown",
   "metadata": {},
   "source": [
    "### And for deep field?"
   ]
  },
  {
   "cell_type": "code",
   "execution_count": 7,
   "metadata": {},
   "outputs": [
    {
     "name": "stdout",
     "output_type": "stream",
     "text": [
      "732 hrs to cover 30 sq deg to depth of 1.0e-07 Jy with 1.2 epochs in 5.0 years\n"
     ]
    }
   ],
   "source": [
    "s0 = 100e-9\n",
    "a0 = 30.\n",
    "o0 = 1.25\n",
    "t_total = 5 * 365.24 * 24  # 5 years in hrs\n",
    "frac_deep = 0.05\n",
    "t_survey = surveytime('DSA', s0, a0, o0)\n",
    "print(f'{t_survey:.0f} hrs to cover {a0:.0f} sq deg to depth of {s0:.1e} Jy with {frac_deep*t_total/t_epoch:.1f} epochs in {t_total/(24*365.24):.1f} years')"
   ]
  },
  {
   "cell_type": "markdown",
   "metadata": {},
   "source": [
    "### Given cadence/area, what is the sensitivity?"
   ]
  },
  {
   "cell_type": "code",
   "execution_count": 8,
   "metadata": {},
   "outputs": [
    {
     "name": "stdout",
     "output_type": "stream",
     "text": [
      "5656 fields (of 5.3 deg^2) of depth 6.6e-04 Jy\n"
     ]
    }
   ],
   "source": [
    "# this one seems off\n",
    "\n",
    "band = 'DSA'\n",
    "a0 = 3e4\n",
    "t_total = 5*365.24*24 # 5 years in hrs\n",
    "o0 = 1.25\n",
    "cadence = 1/(24*30)\n",
    "\n",
    "n_fields = a0/area_field(fov[band]/60)\n",
    "t_field = cadence*t_total/n_fields\n",
    "\n",
    "print(f'{n_fields:.0f} fields (of {area_field(fov[band]/60):.1f} deg^2) of depth {sensitivity(sefd[band], t_field/o0, bw_max[band], eta[band], (na[band]*(na[band]-1)/2)):.1e} Jy')"
   ]
  },
  {
   "cell_type": "markdown",
   "metadata": {},
   "source": [
    "### How long until reaching the confusion limit?"
   ]
  },
  {
   "cell_type": "code",
   "execution_count": 9,
   "metadata": {},
   "outputs": [
    {
     "name": "stdout",
     "output_type": "stream",
     "text": [
      "Confusion limit of 109 nJy reached in 87.2 hr (3.3 arcsec beam at 1.35 GHz)\n"
     ]
    }
   ],
   "source": [
    "theta0 = resolution(freq['DSA'], bmax['DSA'])\n",
    "sigma_c0 = sigma_confusion(freq['DSA'], theta0)\n",
    "t0 = tobs(sigma_c0, sefd['DSA'], na['DSA'], bw_max['DSA'], eta['DSA'])\n",
    "\n",
    "print(f\"Confusion limit of {1e9*sigma_c0:.0f} nJy reached in {t0/3600:.1f} hr ({theta0:0.1f} arcsec beam at {freq['DSA']/1e9} GHz)\")\n"
   ]
  },
  {
   "cell_type": "markdown",
   "metadata": {},
   "source": [
    "### Which deep fields are best?"
   ]
  },
  {
   "cell_type": "code",
   "execution_count": 10,
   "metadata": {},
   "outputs": [],
   "source": [
    "# TBD: time to cover existing deep fields\n",
    "field_properties = {'COSMOS': [], 'HDFS': [], 'HUDF': [], 'CDFS': []}\n"
   ]
  },
  {
   "cell_type": "markdown",
   "metadata": {},
   "source": [
    "### How many radio continuum sources detected?"
   ]
  },
  {
   "cell_type": "code",
   "execution_count": 11,
   "metadata": {},
   "outputs": [],
   "source": [
    "s0 = 2e-6\n",
    "a0 = 3e4\n",
    "\n",
    "#n_source = lambda s_lim, resolution: ..."
   ]
  },
  {
   "cell_type": "markdown",
   "metadata": {},
   "source": [
    "### How many spectral points can be measured per source?"
   ]
  },
  {
   "cell_type": "code",
   "execution_count": null,
   "metadata": {},
   "outputs": [],
   "source": []
  },
  {
   "cell_type": "markdown",
   "metadata": {},
   "source": [
    "### What minimum declination is best for all-sky survey?"
   ]
  },
  {
   "cell_type": "code",
   "execution_count": 12,
   "metadata": {},
   "outputs": [
    {
     "name": "stdout",
     "output_type": "stream",
     "text": [
      "At min Dec of -30, the survey area is 30940 and transit beam elongation is 0.84\n"
     ]
    }
   ],
   "source": [
    "dec_min = -30\n",
    "area30 = survey_area(dec_min)\n",
    "\n",
    "# For elliptical array (17 km N-S vs 15 km E-W baselines), calc southerly zenith angle for circular beam\n",
    "za0 = np.degrees(np.cos(15/17))\n",
    "lat = +39  # rough latitude of array\n",
    "beam_elong = np.cos(np.radians((lat-za0)-dec_min))\n",
    "print(f'At min Dec of {dec_min}, the survey area is {area30:.0f} and transit beam elongation is {beam_elong:0.2f}')"
   ]
  },
  {
   "cell_type": "markdown",
   "metadata": {},
   "source": [
    "### How many pointings to cover the sky?"
   ]
  },
  {
   "cell_type": "code",
   "execution_count": 13,
   "metadata": {},
   "outputs": [
    {
     "name": "stdout",
     "output_type": "stream",
     "text": [
      "Cover the sky with 9216 pointings of area 3.36 deg^2\n"
     ]
    }
   ],
   "source": [
    "dec_min = -30\n",
    "nside_thetap = find_hpnside(fov['DSA']/60)\n",
    "n_pointings = int(np.round(healpy.nside2npix(nside_thetap)*(survey_area(dec_min)/survey_area(-90))))\n",
    "thetap_area = healpy.nside2pixarea(nside_thetap, degrees=True)\n",
    "print(f'Cover the sky with {n_pointings} pointings of area {thetap_area:.2f} deg^2')"
   ]
  },
  {
   "cell_type": "markdown",
   "metadata": {},
   "source": [
    "### What is relative sensitivity at top/bottom of band?"
   ]
  },
  {
   "cell_type": "code",
   "execution_count": null,
   "metadata": {},
   "outputs": [],
   "source": []
  },
  {
   "cell_type": "markdown",
   "metadata": {},
   "source": [
    "### How big is all-sky image?"
   ]
  },
  {
   "cell_type": "code",
   "execution_count": 14,
   "metadata": {},
   "outputs": [
    {
     "name": "stdout",
     "output_type": "stream",
     "text": [
      "Pixelate the sky with 0.5625 Tpixels of resolution 0.81 arcsec (healpix nside=262144)\n",
      "\tThis requires 4.5 TB (Stokes I, one band)\n",
      "8192 pixels per pointing (thetab side length)\n",
      "19496 pixels per pointing (first null side length)\n"
     ]
    }
   ],
   "source": [
    "oversample = 4  # pixel/beam\n",
    "nside_thetab = find_hpnside(resolution(freq['DSA'], bmax['DSA'])/3600/oversample)\n",
    "n_pix_tot = int(np.round(healpy.nside2npix(nside_thetab)*(survey_area(dec_min)/survey_area(-90))))\n",
    "thetab_resol = healpy.nside2resol(nside_thetab, arcmin=True)*60\n",
    "print(f'Pixelate the sky with {n_pix_tot/1024**4} Tpixels of resolution {thetab_resol:.2f} arcsec (healpix nside={nside_thetab})')\n",
    "print(f'\\tThis requires {8*n_pix_tot/1024**4} TB (Stokes I, one band)')\n",
    "\n",
    "print(f'{nside_thetab//nside_thetap} pixels per pointing (thetab side length)')\n",
    "print(f'{int(2*1.19*nside_thetab//nside_thetap)} pixels per pointing (first null side length)')"
   ]
  },
  {
   "cell_type": "markdown",
   "metadata": {},
   "source": [
    "### Still working this in...\n",
    "\n",
    "* Given channel bandwidth, what is sensitivity channel (HI)? (Tb sensitivity; scale as input parameter on cumulative baseline distribution; just change bandwidth and add scale)"
   ]
  },
  {
   "cell_type": "markdown",
   "metadata": {},
   "source": [
    "# More General Comparisons"
   ]
  },
  {
   "cell_type": "markdown",
   "metadata": {},
   "source": [
    "## Telescope performance"
   ]
  },
  {
   "cell_type": "code",
   "execution_count": 15,
   "metadata": {
    "execution": {
     "iopub.execute_input": "2022-01-14T16:59:25.333Z",
     "iopub.status.busy": "2022-01-14T16:59:25.322Z",
     "iopub.status.idle": "2022-01-14T16:59:25.367Z",
     "shell.execute_reply": "2022-01-14T16:59:25.582Z"
    }
   },
   "outputs": [
    {
     "name": "stdout",
     "output_type": "stream",
     "text": [
      "Array \t   Tobs (s) \t    SS (OTF; deg2/hr) \t Sens. (Jy) \t hrs/3e4 deg2 (ideal)\n",
      "----------------------------------------------------------------------------------------------\n",
      "DSA \t   896.2  \t\t 21.3   \t 2.04e-06 \t 1408.0 \n",
      "VLA \t   5.2  \t\t 24.7   \t 1.22e-04 \t 1214.5 \n",
      "ASKAP \t   52500.9  \t\t 0.3   \t 1.00e-05 \t 85811.0 \n"
     ]
    }
   ],
   "source": [
    "# somethign wrong with ASKAP numbers\n",
    "\n",
    "print(f'Array \\t   Tobs (s) \\t    SS (OTF; deg2/hr) \\t Sens. (Jy) \\t hrs/3e4 deg2 (ideal)')\n",
    "print('----------------------------------------------------------------------------------------------')\n",
    "for name in names:\n",
    "    na0 = na[name]\n",
    "    surveykey = list(filter(lambda x: name in x, surveyspecs.keys()))[0]\n",
    "    s0 = surveyspecs[surveykey][1]\n",
    "    t0 = tobs(s0, sefd[name], na0, bw_max[name], eta[name])\n",
    "    s0 = sensitivity(sefd[name], t0, bw_max[name], eta[name], na0*(na0-1)/2)\n",
    "    print(f'{name} \\t   {t0:.1f}  \\t\\t {surveyspeed(fov[name], t0):.1f}   \\t {s0:1.2e} \\t {surveytime(name, s0, 30000, 1.0):.1f} ')"
   ]
  },
  {
   "cell_type": "markdown",
   "metadata": {},
   "source": [
    "## Time required for surveys"
   ]
  },
  {
   "cell_type": "code",
   "execution_count": 16,
   "metadata": {
    "execution": {
     "iopub.execute_input": "2022-01-14T16:59:25.378Z",
     "iopub.status.busy": "2022-01-14T16:59:25.373Z",
     "iopub.status.idle": "2022-01-14T16:59:25.396Z",
     "shell.execute_reply": "2022-01-14T16:59:25.588Z"
    },
    "scrolled": true
   },
   "outputs": [
    {
     "name": "stdout",
     "output_type": "stream",
     "text": [
      "Survey    \t s_lim   \t SS     \t Time/pointing \t Total Time\n",
      "          \t (Jy)    \t (deg/hr)  \t (s)    \t   (hr)\n",
      "DSA All-Sky    \t 2.04e-06 \t 21.3    \t 896.2    \t 1760.0\n",
      "VLASS    \t 1.22e-04 \t 24.7    \t 5.2    \t 1749.4\n",
      "ASKAP EMU    \t 1.00e-05 \t 0.3    \t 52500.9    \t 110621.1\n",
      "\n"
     ]
    }
   ],
   "source": [
    "def print_survey(surveyspecs):\n",
    "    ss = 'Survey    \\t s_lim   \\t SS     \\t Time/pointing \\t Total Time\\n'\n",
    "    ss += '          \\t (Jy)    \\t (deg/hr)  \\t (s)    \\t   (hr)\\n'\n",
    "#    ss +='--------------------------------------------------------------------\\n'\n",
    "    for name in names:\n",
    "        surveykey = list(filter(lambda x: name in x, surveyspecs.keys()))[0]\n",
    "        specs = surveyspecs[surveykey]\n",
    "        a0, s0, o0, tsysfac = specs\n",
    "        na0 = na[name]\n",
    "        tint = tobs(s0, sefd[name], na0, bw_max[name], eta[name])\n",
    "        t0_pointing = tobs(s0, sefd[name], na0, bw_max[name], eta[name])\n",
    "        t0_survey = tsysfac*surveytime(name, s0, a0, o0)\n",
    "        surveyspeed0 = surveyspeed(fov[name], t0_pointing)\n",
    "        ss += f'{surveykey}    \\t {s0:.2e} \\t {surveyspeed0:.1f}    \\t {t0_pointing:.1f}    \\t {t0_survey:.1f}\\n'\n",
    "    print(ss)\n",
    "\n",
    "print_survey(surveyspecs)"
   ]
  },
  {
   "cell_type": "markdown",
   "metadata": {},
   "source": [
    "## Other DSA-2000 surveys/products\n",
    "\n",
    "- Spectroscopy\n",
    "-- 9700 channels at 134kHz resolution\n",
    "-- 4700 channels at 8.4kHz (HI/OH)\n",
    "- Pulsars/FRBs\n",
    "-- 16384 channels, 0.8 ms sampling with 20 seconds triggers => 3 GB/beam/trigger\n",
    "-- 1 s dedispersed voltage cutout per candidate, 2e9 samples/s => 64 TB/trigger \n",
    "- Polarimetry\n",
    "-- 1000 channels (1.3 MHz, Stokes QUV)"
   ]
  },
  {
   "cell_type": "code",
   "execution_count": null,
   "metadata": {},
   "outputs": [],
   "source": []
  },
  {
   "cell_type": "code",
   "execution_count": null,
   "metadata": {},
   "outputs": [],
   "source": []
  }
 ],
 "metadata": {
  "kernelspec": {
   "display_name": "py37",
   "language": "python",
   "name": "py37"
  },
  "language_info": {
   "codemirror_mode": {
    "name": "ipython",
    "version": 3
   },
   "file_extension": ".py",
   "mimetype": "text/x-python",
   "name": "python",
   "nbconvert_exporter": "python",
   "pygments_lexer": "ipython3",
   "version": "3.7.12"
  },
  "nteract": {
   "version": "0.28.0"
  }
 },
 "nbformat": 4,
 "nbformat_minor": 1
}
