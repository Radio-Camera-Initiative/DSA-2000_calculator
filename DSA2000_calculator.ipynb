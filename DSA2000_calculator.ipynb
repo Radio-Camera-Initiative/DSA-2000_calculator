{
 "cells": [
  {
   "cell_type": "markdown",
   "metadata": {},
   "source": [
    "# Calculator for common DSA-2000 Questions\n",
    "\n",
    "## Casey Law, claw@astro.caltech.edu\n",
    "\n",
    "Written in support of DSA-2000 science workshop (January 2022). Reproduces work by Steve Myers for VLASS and DSA-2000 survey design."
   ]
  },
  {
   "cell_type": "code",
   "execution_count": 1,
   "metadata": {
    "execution": {
     "iopub.execute_input": "2022-01-14T16:59:25.172Z",
     "iopub.status.busy": "2022-01-14T16:59:25.165Z",
     "iopub.status.idle": "2022-01-14T16:59:25.188Z",
     "shell.execute_reply": "2022-01-14T16:59:25.573Z"
    }
   },
   "outputs": [],
   "source": [
    "%matplotlib inline\n",
    "\n",
    "import pylab as pl\n",
    "import numpy as np\n",
    "import healpy"
   ]
  },
  {
   "cell_type": "markdown",
   "metadata": {},
   "source": [
    "## Define some useful functions\n"
   ]
  },
  {
   "cell_type": "code",
   "execution_count": 2,
   "metadata": {
    "execution": {
     "iopub.execute_input": "2022-01-14T16:59:25.249Z",
     "iopub.status.busy": "2022-01-14T16:59:25.241Z",
     "iopub.status.idle": "2022-01-14T16:59:25.261Z",
     "shell.execute_reply": "2022-01-14T16:59:25.578Z"
    }
   },
   "outputs": [],
   "source": [
    "resolution = lambda freq, bmax: 1.22*3600*np.degrees(3e8/float(freq)/bmax) # resolution in asec for freq in Hz, bmax in meters\n",
    "sensitivity = lambda sefd, dt, bw, eta, nbl: sefd/(eta*np.sqrt(nbl*2 * dt * bw * 2))    # sefd in Jy, dt in s, bw in Hz, assumes std correlator eficiency and 2 pols\n",
    "tobs = lambda s0, sefd, na, bw, eta: (sefd/(s0*eta))**2/(na*(na-1)*bw*2)    # obsering time in s (inverse of sensitivity eqn)\n",
    "area_field = lambda fov: 0.5665 * fov**2  # fov in amin\n",
    "surveyspeed = lambda fov, t0: area_field(fov)/t0         # ss in deg2/hr, fov in amin, t0 is time per pointing in s\n",
    "f_beam = lambda rad, fwhm: np.exp(-4*np.log(2)*(rad/fwhm)**2)  # beam function (fractional power at radius rad)\n",
    "\n",
    "datarate_vis = lambda na, nch, npol, tsamp: (na*(na-1)/2)*nch*npol*8/tsamp/1024**2  # MB/s for tsamp in s\n",
    "datarate_vis_vla = lambda tsamp, nspw: 45*(nspw*64*4/16384.) / tsamp # scaling taken from nrao oss, minimal nchan, full pol"
   ]
  },
  {
   "cell_type": "code",
   "execution_count": 3,
   "metadata": {
    "execution": {
     "iopub.execute_input": "2022-01-14T16:59:25.294Z",
     "iopub.status.busy": "2022-01-14T16:59:25.283Z",
     "iopub.status.idle": "2022-01-14T16:59:25.317Z",
     "shell.execute_reply": "2022-01-14T16:59:25.580Z"
    },
    "jupyter": {
     "outputs_hidden": false,
     "source_hidden": false
    },
    "nteract": {
     "transient": {
      "deleting": false
     }
    }
   },
   "outputs": [],
   "source": [
    "ess_nu = lambda fov, tobs, nu, alpha: surveyspeed(fov, tobs) * nu**(2*alpha)\n",
    "ess_flux = lambda fov, tobs, sensitivity, gamma: surveyspeed(fov, tobs) * sensitivity**(gamma+2)\n",
    "ess_nuflux = lambda fov, tobs, nu, alpha, sensitivity, gamma: surveyspeed(fov, tobs) * sensitivity**(gamma+2) * nu**(2*alpha)\n",
    "surveytime = lambda band, sensitivity, area, overhead: overhead * area/surveyspeed(fov[band], tobs(sensitivity, sefd[band], na[band], bw_max[band], eta[band]))   # total time in hours for given band, area in sq deg and sensitivity in Jy\n",
    "\n",
    "# Effective survey speed for extragalactic specs (alpha = -0.7, gamma => euclidean).\n",
    "ess_eg = lambda fov, dt, nu, sensitivity: ess_nuflux(fov, dt, nu, -0.7, sensitivity, -1.5)\n",
    "sigma_confusion = lambda nu, theta: 1.2e-6*(nu/3.02e9)**(-0.7)*(theta/8)**(10/3)  # confusion with freq in Hz, theta in asec\n",
    "survey_area = lambda dec_lim: (1+np.sin(np.radians(np.abs(dec_lim))))*(2*np.pi*(180/np.pi)**2)  # sq deg, exclude outside dec_lim"
   ]
  },
  {
   "cell_type": "code",
   "execution_count": 4,
   "metadata": {},
   "outputs": [],
   "source": [
    "def find_hpnside(size, verbose=False):\n",
    "    \"\"\" Use healpix scheme to find optimal nsize for a given size in degrees\n",
    "    \"\"\"\n",
    "    for i in range(20):\n",
    "        resol = np.degrees(healpy.nside2resol(2**i))\n",
    "        if resol < size:\n",
    "            if verbose:\n",
    "                print(f'nside=2**{i} has resolution of {resol:1.1e} deg (resolves limit of {size} deg)')\n",
    "            break\n",
    "    return 2**i"
   ]
  },
  {
   "cell_type": "code",
   "execution_count": 72,
   "metadata": {},
   "outputs": [],
   "source": [
    "# cumulative histogram of baseline lengths for W configuration\n",
    "# nblarr[0] is number of baselines, nblarr[1] is max baseline length in meters.\n",
    "blfrac = np.array([   2713.,    4985.,    9054.,   15119.,   22950.,   32325.,\n",
    "          43181.,   55824.,   69858.,   85469.,  102308.,  120628.,\n",
    "         140305.,  161417.,  183853.,  207582.,  231966.,  258083.,\n",
    "         285248.,  313273.,  342334.,  372247.,  403392.,  435111.,\n",
    "         468076.,  501321.,  535350.,  570064.,  605587.,  641260.,\n",
    "         677628.,  714315.,  751568.,  788970.,  826299.,  863931.,\n",
    "         901520.,  939318.,  977137., 1014510., 1051771., 1088905.,\n",
    "        1126009., 1162462., 1198652., 1234562., 1269596., 1304725.,\n",
    "        1338824., 1372722., 1405761., 1438268., 1469989., 1501154.,\n",
    "        1531615., 1561165., 1589887., 1617913., 1645118., 1670979.,\n",
    "        1696439., 1720885., 1744597., 1767487., 1789383., 1810425.,\n",
    "        1830348., 1849484., 1867862., 1885488., 1902348., 1918459.,\n",
    "        1933525., 1947866., 1961529., 1974579., 1986612., 1998076.,\n",
    "        2009133., 2019197., 2028535., 2037223., 2045349., 2052889.,\n",
    "        2059729., 2065997., 2071635., 2076675., 2081213., 2085130.,\n",
    "        2088597., 2091336., 2093612., 2095354., 2096617., 2097443.,\n",
    "        2097907., 2098089., 2098162., 2098176.])/2098176\n",
    "minbl = np.array([    153.93621821,   307.87243643,   461.80865464,\n",
    "          615.74487286,   769.68109107,   923.61730929,  1077.5535275 ,\n",
    "         1231.48974571,  1385.42596393,  1539.36218214,  1693.29840036,\n",
    "         1847.23461857,  2001.17083679,  2155.107055  ,  2309.04327322,\n",
    "         2462.97949143,  2616.91570964,  2770.85192786,  2924.78814607,\n",
    "         3078.72436429,  3232.6605825 ,  3386.59680072,  3540.53301893,\n",
    "         3694.46923714,  3848.40545536,  4002.34167357,  4156.27789179,\n",
    "         4310.21411   ,  4464.15032822,  4618.08654643,  4772.02276464,\n",
    "         4925.95898286,  5079.89520107,  5233.83141929,  5387.7676375 ,\n",
    "         5541.70385572,  5695.64007393,  5849.57629215,  6003.51251036,\n",
    "         6157.44872857,  6311.38494679,  6465.321165  ,  6619.25738322,\n",
    "         6773.19360143,  6927.12981965,  7081.06603786,  7235.00225607,\n",
    "         7388.93847429,  7542.8746925 ,  7696.81091072,  7850.74712893,\n",
    "         8004.68334715,  8158.61956536,  8312.55578357,  8466.49200179,\n",
    "         8620.42822   ,  8774.36443822,  8928.30065643,  9082.23687465,\n",
    "         9236.17309286,  9390.10931108,  9544.04552929,  9697.9817475 ,\n",
    "         9851.91796572, 10005.85418393, 10159.79040215, 10313.72662036,\n",
    "        10467.66283858, 10621.59905679, 10775.535275  , 10929.47149322,\n",
    "        11083.40771143, 11237.34392965, 11391.28014786, 11545.21636608,\n",
    "        11699.15258429, 11853.08880251, 12007.02502072, 12160.96123893,\n",
    "        12314.89745715, 12468.83367536, 12622.76989358, 12776.70611179,\n",
    "        12930.64233001, 13084.57854822, 13238.51476643, 13392.45098465,\n",
    "        13546.38720286, 13700.32342108, 13854.25963929, 14008.19585751,\n",
    "        14162.13207572, 14316.06829393, 14470.00451215, 14623.94073036,\n",
    "        14777.87694858, 14931.81316679, 15085.74938501, 15239.68560322,\n",
    "        15393.62182144])\n",
    "\n",
    "\n",
    "def frac(scale):\n",
    "    \"\"\" Fraction of cumulative distribution seen by scale in arcmin\n",
    "    \"\"\"\n",
    "\n",
    "    km = 1.22*60*np.degrees((3e8/1.35e9))/scale # arcmin to km\n",
    "    if km > max(minbl):\n",
    "        i = len(minbl)-1\n",
    "    elif km < min(minbl):\n",
    "        return 0.\n",
    "    else:\n",
    "        i = np.where(minbl > km)[0][0]\n",
    "    return blfrac[i]\n"
   ]
  },
  {
   "cell_type": "markdown",
   "metadata": {},
   "source": [
    "## Set telescope parameters as a function of band/config"
   ]
  },
  {
   "cell_type": "code",
   "execution_count": 5,
   "metadata": {
    "execution": {
     "iopub.execute_input": "2022-01-14T16:59:25.217Z",
     "iopub.status.busy": "2022-01-14T16:59:25.200Z",
     "iopub.status.idle": "2022-01-14T16:59:25.234Z",
     "shell.execute_reply": "2022-01-14T16:59:25.576Z"
    }
   },
   "outputs": [],
   "source": [
    "# keys defined for configurations and bands separately.\n",
    "names = ['DSA', 'VLA', 'ASKAP']\n",
    "na = {'DSA': 2000, 'VLA': 27, 'ASKAP': 36}   # number of antennas\n",
    "freq = {'DSA': 1.35e9, 'VLA': 3.0e9, 'ASKAP': 1.28e9}  # band center\n",
    "fov = {'DSA': 60*3.06, 'VLA': 15., 'ASKAP': 60*3.}    # fwhm field of view (theta_pb) in arcminutes\n",
    "bw_max = {'DSA': 0.65*1.3e9, 'VLA': 1.5e9, 'ASKAP': 288e6}    # bandwidth (minus RFI)\n",
    "bmax = {'DSA': 17e3, 'VLAB': 11.1e3, 'ASKAP': 6e3}    # longest baselines in meter\n",
    "sefd = {'DSA': 5020, 'VLA': 370, 'ASKAP': 1952}    # array SEFD\n",
    "# VLA sefd values appear high, because we assume 27 ants, whereas exposure calculator uses 25 ants. result is the same in both cases.\n",
    "eta = {'DSA': 1.0, 'VLA': 0.92, 'ASKAP': 1.0}   # correlator efficiency\n",
    "surveyspecs = {'DSA All-Sky': [3e4, 2.04e-6, 1.25, 1.0],\n",
    "               'VLASS': [3.3885e4, 122e-6, 1.17, 1.09]}#\n",
    "#               'ASKAP EMU': [3.0939e4, 10e-6, 1.25, 1.0]}  # something must be wrong with ASKAP numbers"
   ]
  },
  {
   "cell_type": "markdown",
   "metadata": {},
   "source": [
    "# Q&A"
   ]
  },
  {
   "cell_type": "markdown",
   "metadata": {},
   "source": [
    "### Given sensitivity/area, what is the cadence?"
   ]
  },
  {
   "cell_type": "code",
   "execution_count": 21,
   "metadata": {},
   "outputs": [
    {
     "name": "stdout",
     "output_type": "stream",
     "text": [
      "1831 hrs to cover 30000 sq deg to depth of 2.0e-06 Jy with 15.6 epochs in 5.0 years\n"
     ]
    }
   ],
   "source": [
    "s0 = 2e-6\n",
    "a0 = 3e4\n",
    "o0 = 1.25\n",
    "t_total = 5 * 365.24 * 24  # 5 years in hrs\n",
    "frac_survey = 0.65\n",
    "t_epoch = surveytime('DSA', s0, a0, o0)\n",
    "print(f'{t_epoch:.0f} hrs to cover {a0:.0f} sq deg to depth of {s0:.1e} Jy with {frac_survey*t_total/t_epoch:.1f} epochs in {t_total/(24*365.24):.1f} years')"
   ]
  },
  {
   "cell_type": "markdown",
   "metadata": {},
   "source": [
    "### And for deep field?"
   ]
  },
  {
   "cell_type": "code",
   "execution_count": 7,
   "metadata": {},
   "outputs": [
    {
     "name": "stdout",
     "output_type": "stream",
     "text": [
      "732 hrs to cover 30 sq deg to depth of 1.0e-07 Jy with 1.2 epochs in 5.0 years\n"
     ]
    }
   ],
   "source": [
    "s0 = 100e-9\n",
    "a0 = 30.\n",
    "o0 = 1.25\n",
    "t_total = 5 * 365.24 * 24  # 5 years in hrs\n",
    "frac_deep = 0.05\n",
    "t_survey = surveytime('DSA', s0, a0, o0)\n",
    "print(f'{t_survey:.0f} hrs to cover {a0:.0f} sq deg to depth of {s0:.1e} Jy with {frac_deep*t_total/t_epoch:.1f} epochs in {t_total/(24*365.24):.1f} years')"
   ]
  },
  {
   "cell_type": "markdown",
   "metadata": {},
   "source": [
    "### Given cadence/area, what is the sensitivity?"
   ]
  },
  {
   "cell_type": "code",
   "execution_count": 93,
   "metadata": {},
   "outputs": [
    {
     "name": "stdout",
     "output_type": "stream",
     "text": [
      "30000.0 deg^2 covered with 5656 fields of 5.3 deg^2 to depth 3.1e-05 Jy for each of 16 epoch\n"
     ]
    }
   ],
   "source": [
    "band = 'DSA'\n",
    "a0 = 3e4\n",
    "n_visits = 16\n",
    "cadence = n_visits/5*365.24*24 # per hour\n",
    "o0 = 1.25\n",
    "\n",
    "n_fields = a0/area_field(fov[band]/60)\n",
    "t_field = cadence/n_fields\n",
    "\n",
    "print(f'{a0} deg^2 covered with {n_fields:.0f} fields of {area_field(fov[band]/60):.1f} deg^2 to depth {sensitivity(sefd[band], t_field/o0, bw_max[band], eta[band], (na[band]*(na[band]-1)/2)):.1e} Jy for each of {n_visits} epoch')"
   ]
  },
  {
   "cell_type": "markdown",
   "metadata": {},
   "source": [
    "### How long until reaching the confusion limit?"
   ]
  },
  {
   "cell_type": "code",
   "execution_count": 9,
   "metadata": {},
   "outputs": [
    {
     "name": "stdout",
     "output_type": "stream",
     "text": [
      "Confusion limit of 109 nJy reached in 87.2 hr (3.3 arcsec beam at 1.35 GHz)\n"
     ]
    }
   ],
   "source": [
    "theta0 = resolution(freq['DSA'], bmax['DSA'])\n",
    "sigma_c0 = sigma_confusion(freq['DSA'], theta0)\n",
    "t0 = tobs(sigma_c0, sefd['DSA'], na['DSA'], bw_max['DSA'], eta['DSA'])\n",
    "\n",
    "print(f\"Confusion limit of {1e9*sigma_c0:.0f} nJy reached in {t0/3600:.1f} hr ({theta0:0.1f} arcsec beam at {freq['DSA']/1e9} GHz)\")"
   ]
  },
  {
   "cell_type": "markdown",
   "metadata": {},
   "source": [
    "### Which deep fields are best?"
   ]
  },
  {
   "cell_type": "code",
   "execution_count": 10,
   "metadata": {},
   "outputs": [],
   "source": [
    "# TBD: time to cover existing deep fields\n",
    "field_properties = {'COSMOS': [], 'HDFS': [], 'HUDF': [], 'CDFS': []}"
   ]
  },
  {
   "cell_type": "markdown",
   "metadata": {},
   "source": [
    "### How many radio continuum sources detected?"
   ]
  },
  {
   "cell_type": "code",
   "execution_count": 11,
   "metadata": {},
   "outputs": [],
   "source": [
    "# use Matthews et al 2021\n",
    "\n",
    "s0 = 2e-6\n",
    "a0 = 3e4\n",
    "\n",
    "#n_source = lambda s_lim, resolution: ..."
   ]
  },
  {
   "cell_type": "markdown",
   "metadata": {},
   "source": [
    "### What is the sensitivity to extended sources?"
   ]
  },
  {
   "cell_type": "code",
   "execution_count": 94,
   "metadata": {},
   "outputs": [
    {
     "name": "stdout",
     "output_type": "stream",
     "text": [
      "On scale of 1 arcmin, sensitivity of 1.4190324435893207e-05 Jy in 900 seconds\n"
     ]
    }
   ],
   "source": [
    "dt = 900  # seconds\n",
    "scale = 1  # arcmin\n",
    "nbl = (na['DSA']*(na['DSA']-1)/2)*frac(scale)\n",
    "s0 = sensitivity(sefd['DSA'], dt, bw_max['DSA'], eta['DSA'], nbl)\n",
    "print(f'On scale of {scale} arcmin, sensitivity of {s0} Jy in {dt} seconds')"
   ]
  },
  {
   "cell_type": "markdown",
   "metadata": {},
   "source": [
    "## What physical scales are accesible to HI image"
   ]
  },
  {
   "cell_type": "code",
   "execution_count": 22,
   "metadata": {},
   "outputs": [],
   "source": [
    "# consider D=100 Mpc, z=0.1, z=1.0\n",
    "# HI column and velocity resolution"
   ]
  },
  {
   "cell_type": "markdown",
   "metadata": {},
   "source": [
    "### What sensitivity to Galactic HI/OH?"
   ]
  },
  {
   "cell_type": "code",
   "execution_count": 101,
   "metadata": {},
   "outputs": [
    {
     "data": {
      "text/plain": [
       "0.00016165668566682666"
      ]
     },
     "execution_count": 101,
     "metadata": {},
     "output_type": "execute_result"
    }
   ],
   "source": [
    "# calc column density, velocity range, velocity resolution\n",
    "# reference value 40 microJy/beam/ch(134kHz), 3.3\" beam\n",
    "sensitivity(sefd['DSA'], 900, 134e3, eta['DSA'], na['DSA']*(na['DSA']-1)/2)"
   ]
  },
  {
   "cell_type": "markdown",
   "metadata": {},
   "source": [
    "### What minimum declination is best for all-sky survey?"
   ]
  },
  {
   "cell_type": "code",
   "execution_count": 12,
   "metadata": {},
   "outputs": [
    {
     "name": "stdout",
     "output_type": "stream",
     "text": [
      "At min Dec of -30, the survey area is 30940 and transit beam elongation is 0.84\n"
     ]
    }
   ],
   "source": [
    "dec_min = -30\n",
    "area30 = survey_area(dec_min)\n",
    "\n",
    "# For elliptical array (17 km N-S vs 15 km E-W baselines), calc southerly zenith angle for circular beam\n",
    "za0 = np.degrees(np.cos(15/17))\n",
    "lat = +39  # rough latitude of array\n",
    "beam_elong = np.cos(np.radians((lat-za0)-dec_min))\n",
    "print(f'At min Dec of {dec_min}, the survey area is {area30:.0f} and transit beam elongation is {beam_elong:0.2f}')"
   ]
  },
  {
   "cell_type": "markdown",
   "metadata": {},
   "source": [
    "### How many pointings to cover the sky?"
   ]
  },
  {
   "cell_type": "code",
   "execution_count": 13,
   "metadata": {},
   "outputs": [
    {
     "name": "stdout",
     "output_type": "stream",
     "text": [
      "Cover the sky with 9216 pointings of area 3.36 deg^2\n"
     ]
    }
   ],
   "source": [
    "dec_min = -30\n",
    "nside_thetap = find_hpnside(fov['DSA']/60)\n",
    "n_pointings = int(np.round(healpy.nside2npix(nside_thetap)*(survey_area(dec_min)/survey_area(-90))))\n",
    "thetap_area = healpy.nside2pixarea(nside_thetap, degrees=True)\n",
    "print(f'Cover the sky with {n_pointings} pointings of healpix area {thetap_area:.2f} deg^2')"
   ]
  },
  {
   "cell_type": "markdown",
   "metadata": {},
   "source": [
    "### What is relative sensitivity at top/bottom of band?"
   ]
  },
  {
   "cell_type": "code",
   "execution_count": null,
   "metadata": {},
   "outputs": [],
   "source": []
  },
  {
   "cell_type": "markdown",
   "metadata": {},
   "source": [
    "### How big is all-sky image?"
   ]
  },
  {
   "cell_type": "code",
   "execution_count": 14,
   "metadata": {},
   "outputs": [
    {
     "name": "stdout",
     "output_type": "stream",
     "text": [
      "Pixelate the sky with 0.5625 Tpixels of resolution 0.81 arcsec (healpix nside=262144)\n",
      "\tThis requires 4.5 TB (Stokes I, one band)\n",
      "8192 pixels per pointing (thetab side length)\n",
      "19496 pixels per pointing (first null side length)\n"
     ]
    }
   ],
   "source": [
    "oversample = 4  # pixel/beam\n",
    "nside_thetab = find_hpnside(resolution(freq['DSA'], bmax['DSA'])/3600/oversample)\n",
    "n_pix_tot = int(np.round(healpy.nside2npix(nside_thetab)*(survey_area(dec_min)/survey_area(-90))))\n",
    "thetab_resol = healpy.nside2resol(nside_thetab, arcmin=True)*60\n",
    "print(f'Pixelate the sky with {n_pix_tot/1024**4} Tpixels of resolution {thetab_resol:.2f} arcsec (healpix nside={nside_thetab})')\n",
    "print(f'\\tThis requires {8*n_pix_tot/1024**4} TB (Stokes I, one band)')\n",
    "\n",
    "print(f'{nside_thetab//nside_thetap} pixels per pointing (thetab side length)')\n",
    "print(f'{int(2*1.19*nside_thetab//nside_thetap)} pixels per pointing (first null side length)')"
   ]
  },
  {
   "cell_type": "markdown",
   "metadata": {},
   "source": [
    "# More General Comparisons"
   ]
  },
  {
   "cell_type": "markdown",
   "metadata": {},
   "source": [
    "## Telescope performance"
   ]
  },
  {
   "cell_type": "code",
   "execution_count": 15,
   "metadata": {
    "execution": {
     "iopub.execute_input": "2022-01-14T16:59:25.333Z",
     "iopub.status.busy": "2022-01-14T16:59:25.322Z",
     "iopub.status.idle": "2022-01-14T16:59:25.367Z",
     "shell.execute_reply": "2022-01-14T16:59:25.582Z"
    }
   },
   "outputs": [
    {
     "name": "stdout",
     "output_type": "stream",
     "text": [
      "Array \t   Tobs (s) \t    SS (OTF; deg2/hr) \t Sens. (Jy) \t hrs/3e4 deg2 (ideal)\n",
      "----------------------------------------------------------------------------------------------\n",
      "DSA \t   896.2  \t\t 21.3   \t 2.04e-06 \t 1408.0 \n",
      "VLA \t   5.2  \t\t 24.7   \t 1.22e-04 \t 1214.5 \n",
      "ASKAP \t   52500.9  \t\t 0.3   \t 1.00e-05 \t 85811.0 \n"
     ]
    }
   ],
   "source": [
    "# something wrong with how I'm using ASKAP numbers, so skipping that for now\n",
    "\n",
    "print(f'Array \\t   Tobs (s) \\t    SS (OTF; deg2/hr) \\t Sens. (Jy) \\t hrs/3e4 deg2 (ideal)')\n",
    "print('----------------------------------------------------------------------------------------------')\n",
    "for name in names:\n",
    "    na0 = na[name]\n",
    "    surveykey = list(filter(lambda x: name in x, surveyspecs.keys()))[0]\n",
    "    s0 = surveyspecs[surveykey][1]\n",
    "    t0 = tobs(s0, sefd[name], na0, bw_max[name], eta[name])\n",
    "    s0 = sensitivity(sefd[name], t0, bw_max[name], eta[name], na0*(na0-1)/2)\n",
    "    print(f'{name} \\t   {t0:.1f}  \\t\\t {surveyspeed(fov[name], t0):.1f}   \\t {s0:1.2e} \\t {surveytime(name, s0, 30000, 1.0):.1f} ')"
   ]
  },
  {
   "cell_type": "markdown",
   "metadata": {},
   "source": [
    "## Time required for surveys"
   ]
  },
  {
   "cell_type": "code",
   "execution_count": 16,
   "metadata": {
    "execution": {
     "iopub.execute_input": "2022-01-14T16:59:25.378Z",
     "iopub.status.busy": "2022-01-14T16:59:25.373Z",
     "iopub.status.idle": "2022-01-14T16:59:25.396Z",
     "shell.execute_reply": "2022-01-14T16:59:25.588Z"
    },
    "scrolled": true
   },
   "outputs": [
    {
     "name": "stdout",
     "output_type": "stream",
     "text": [
      "Survey    \t s_lim   \t SS     \t Time/pointing \t Total Time\n",
      "          \t (Jy)    \t (deg/hr)  \t (s)    \t   (hr)\n",
      "DSA All-Sky    \t 2.04e-06 \t 21.3    \t 896.2    \t 1760.0\n",
      "VLASS    \t 1.22e-04 \t 24.7    \t 5.2    \t 1749.4\n",
      "ASKAP EMU    \t 1.00e-05 \t 0.3    \t 52500.9    \t 110621.1\n",
      "\n"
     ]
    }
   ],
   "source": [
    "def print_survey(surveyspecs):\n",
    "    ss = 'Survey    \\t s_lim   \\t SS     \\t Time/pointing \\t Total Time\\n'\n",
    "    ss += '          \\t (Jy)    \\t (deg/hr)  \\t (s)    \\t   (hr)\\n'\n",
    "#    ss +='--------------------------------------------------------------------\\n'\n",
    "    for name in names:\n",
    "        surveykey = list(filter(lambda x: name in x, surveyspecs.keys()))[0]\n",
    "        specs = surveyspecs[surveykey]\n",
    "        a0, s0, o0, tsysfac = specs\n",
    "        na0 = na[name]\n",
    "        tint = tobs(s0, sefd[name], na0, bw_max[name], eta[name])\n",
    "        t0_pointing = tobs(s0, sefd[name], na0, bw_max[name], eta[name])\n",
    "        t0_survey = tsysfac*surveytime(name, s0, a0, o0)\n",
    "        surveyspeed0 = surveyspeed(fov[name], t0_pointing)\n",
    "        ss += f'{surveykey}    \\t {s0:.2e} \\t {surveyspeed0:.1f}    \\t {t0_pointing:.1f}    \\t {t0_survey:.1f}\\n'\n",
    "    print(ss)\n",
    "\n",
    "print_survey(surveyspecs)"
   ]
  },
  {
   "cell_type": "markdown",
   "metadata": {},
   "source": [
    "## Other DSA-2000 surveys/products\n",
    "\n",
    "- Spectroscopy\n",
    "-- 9700 channels at 134kHz resolution\n",
    "-- 4700 channels at 8.4kHz (HI/OH)\n",
    "- Pulsars/FRBs\n",
    "-- 16384 channels, 0.8 ms sampling with 20 seconds triggers => 3 GB/beam/trigger\n",
    "-- 1 s dedispersed voltage cutout per candidate, 2e9 samples/s => 64 TB/trigger \n",
    "- Polarimetry\n",
    "-- 1000 channels (1.3 MHz, Stokes QUV)"
   ]
  },
  {
   "cell_type": "code",
   "execution_count": null,
   "metadata": {},
   "outputs": [],
   "source": []
  },
  {
   "cell_type": "code",
   "execution_count": null,
   "metadata": {},
   "outputs": [],
   "source": []
  }
 ],
 "metadata": {
  "kernelspec": {
   "display_name": "py37",
   "language": "python",
   "name": "py37"
  },
  "language_info": {
   "codemirror_mode": {
    "name": "ipython",
    "version": 3
   },
   "file_extension": ".py",
   "mimetype": "text/x-python",
   "name": "python",
   "nbconvert_exporter": "python",
   "pygments_lexer": "ipython3",
   "version": "3.7.12"
  },
  "nteract": {
   "version": "0.28.0"
  }
 },
 "nbformat": 4,
 "nbformat_minor": 1
}
