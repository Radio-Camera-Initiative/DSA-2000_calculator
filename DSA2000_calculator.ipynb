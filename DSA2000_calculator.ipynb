{
 "cells": [
  {
   "cell_type": "markdown",
   "metadata": {},
   "source": [
    "# Calculator and Visualizer for DSA-2000 Capabilities\n",
    "\n",
    "## Casey Law, claw@astro.caltech.edu\n",
    "\n",
    "Written in support of DSA-2000 science workshop (January 2022). Reproduces work by Steve Myers for VLASS and DSA-2000 survey design."
   ]
  },
  {
   "cell_type": "code",
   "execution_count": 1,
   "metadata": {
    "execution": {
     "iopub.execute_input": "2022-01-14T16:59:25.172Z",
     "iopub.status.busy": "2022-01-14T16:59:25.165Z",
     "iopub.status.idle": "2022-01-14T16:59:25.188Z",
     "shell.execute_reply": "2022-01-14T16:59:25.573Z"
    }
   },
   "outputs": [],
   "source": [
    "%matplotlib inline\n",
    "\n",
    "import pylab as pl\n",
    "import numpy as np\n",
    "import healpy"
   ]
  },
  {
   "cell_type": "markdown",
   "metadata": {},
   "source": [
    "## Set telescope parameters as a function of band/config"
   ]
  },
  {
   "cell_type": "code",
   "execution_count": 2,
   "metadata": {
    "execution": {
     "iopub.execute_input": "2022-01-14T16:59:25.217Z",
     "iopub.status.busy": "2022-01-14T16:59:25.200Z",
     "iopub.status.idle": "2022-01-14T16:59:25.234Z",
     "shell.execute_reply": "2022-01-14T16:59:25.576Z"
    }
   },
   "outputs": [],
   "source": [
    "# keys defined for configurations and bands separately.\n",
    "\n",
    "na = {'DFACS': 2000, 'VLASS': 27}   # number of antennas\n",
    "freq = {'DSA': 1.35e9, 'VLAL': 1.5e9, 'VLAS': 3.0e9}  # band center\n",
    "fov = {'DSA': 60*3.06,'VLAL': 30., 'VLAS': 15.}    # fwhm field of view (theta_pb) in arcminutes\n",
    "bw_max = {'DSA': 0.65*1.3e9, 'VLAL': 0.6e9, 'VLAS': 1.5e9}    # bandwidth (minus RFI)\n",
    "eta = {'DSA': 1.0, 'VLAL': 0.92, 'VLAS': 0.92}   # correlator efficiency\n",
    "bmax = {'DSAW': 15e3, 'VLAA': 36.4e3, 'VLAB': 11.1e3, 'VLAC': 3.4e3, 'VLAD': 1.03e3}    # longest baselines in meter\n",
    "sefd = {'DSA': 5020, 'VLAL': 510, 'VLAS': 370}    # array SEFD fixed to match exposure calculator int time to 100 microJy.\n",
    "# VLA sefd values appear high, because we assume 27 ants, whereas exposure calculator uses 25 ants. result is the same in both cases.\n",
    "surveyspecs = {'DFACS': [3e4, 2.04e-6, 'DSA', 1.25, 1.0], 'VLASS': [3.3885e4, 122e-6, 'VLAS', 1.17, 1.09], }\n",
    "#               'EMU': []}\n",
    "#'COSMOS': [2., 1.5e-6, 'VLAS', 1.25, 1.0]"
   ]
  },
  {
   "cell_type": "markdown",
   "metadata": {},
   "source": [
    "## Define functions\n"
   ]
  },
  {
   "cell_type": "code",
   "execution_count": 3,
   "metadata": {
    "execution": {
     "iopub.execute_input": "2022-01-14T16:59:25.249Z",
     "iopub.status.busy": "2022-01-14T16:59:25.241Z",
     "iopub.status.idle": "2022-01-14T16:59:25.261Z",
     "shell.execute_reply": "2022-01-14T16:59:25.578Z"
    }
   },
   "outputs": [],
   "source": [
    "resolution = lambda freq, bmax: 3600*np.degrees(3e8/float(freq)/bmax) # resolution in asec for freq in Hz, bmax in meters\n",
    "sensitivity = lambda sefd, dt, bw, eta, nbl: sefd/(eta*np.sqrt(nbl*2 * dt * bw * 2))    # sefd in Jy, dt in s, bw in Hz, assumes std correlator eficiency and 2 pols\n",
    "tobs = lambda sensitivity, sefd, na, bw, eta: (sefd/(sensitivity*eta))**2/(na*(na-1)*bw*2)    # obsering time in s (inverse of sensitivity eqn)\n",
    "surveyspeed = lambda fov, tobs: 0.5665 * fov**2/tobs         # ss in deg2/hr, fov in amin, tobs in s\n",
    "f_beam = lambda rad, fwhm: np.exp(-4*np.log(2)*(rad/fwhm)**2)\n",
    "\n",
    "datarate_vis = lambda na, nch, npol, tsamp: (na*(na-1)/2)*nch*npol*8/tsamp/1024**2  # MB/s for tsamp in s\n",
    "datarate_vis_vla = lambda tsamp, nspw: 45*(nspw*64*4/16384.) / tsamp # scaling taken from nrao oss, minimal nchan, full pol"
   ]
  },
  {
   "cell_type": "code",
   "execution_count": 4,
   "metadata": {
    "execution": {
     "iopub.execute_input": "2022-01-14T16:59:25.294Z",
     "iopub.status.busy": "2022-01-14T16:59:25.283Z",
     "iopub.status.idle": "2022-01-14T16:59:25.317Z",
     "shell.execute_reply": "2022-01-14T16:59:25.580Z"
    },
    "jupyter": {
     "outputs_hidden": false,
     "source_hidden": false
    },
    "nteract": {
     "transient": {
      "deleting": false
     }
    }
   },
   "outputs": [],
   "source": [
    "ess_nu = lambda fov, tobs, nu, alpha: surveyspeed(fov, tobs) * nu**(2*alpha)\n",
    "ess_flux = lambda fov, tobs, sensitivity, gamma: surveyspeed(fov, tobs) * sensitivity**(gamma+2)\n",
    "ess_nuflux = lambda fov, tobs, nu, alpha, sensitivity, gamma: surveyspeed(fov, tobs) * sensitivity**(gamma+2) * nu**(2*alpha)\n",
    "surveytime = lambda band, sensitivity, na, area, overhead: overhead * area/surveyspeed(fov[band], tobs(sensitivity, sefd[band], na, bw_max[band], eta[band]))   # total time in hours for given band, area in sq deg and sensitivity in Jy\n",
    "\n",
    "# Effective survey speed for extragalactic specs (alpha = -0.7, gamma => euclidean).\n",
    "# Effective survey speed for inverted spectrum (alpha = +0.7, gamma => euclidean).\n",
    "ess_eg = lambda fov, dt, nu, sensitivity: ess_nuflux(fov, dt, nu, -0.7, sensitivity, -1.5)\n",
    "ess_eg_norm = 9.e-15  # normalize to S band all sky survey\n",
    "ess_inv = lambda fov, dt, nu, sensitivity: ess_nuflux(fov, dt, nu, 0.7, sensitivity, -1.5)\n",
    "ess_inv_norm = 5e12    # normalize to Galactic Ku survey\n",
    "\n",
    "survey_area = lambda dec_lim: (1+np.sin(np.radians(np.abs(dec_lim))))*(2*np.pi*(180/np.pi)**2)  # sq deg, exclude outside dec_lim\n"
   ]
  },
  {
   "cell_type": "code",
   "execution_count": 5,
   "metadata": {},
   "outputs": [],
   "source": [
    "def find_hpnside(size):\n",
    "    \"\"\" size in degrees\n",
    "    \"\"\"\n",
    "    for i in range(20):\n",
    "        resol = np.degrees(healpy.nside2resol(2**i))\n",
    "        if resol < size:\n",
    "            print(f'nside=2**{i} has resolution of {resol:1.1e} deg (resolves limit of {size} deg)')\n",
    "            break\n",
    "    return 2**i"
   ]
  },
  {
   "cell_type": "markdown",
   "metadata": {},
   "source": [
    "## Calculate performance"
   ]
  },
  {
   "cell_type": "code",
   "execution_count": 6,
   "metadata": {
    "execution": {
     "iopub.execute_input": "2022-01-14T16:59:25.333Z",
     "iopub.status.busy": "2022-01-14T16:59:25.322Z",
     "iopub.status.idle": "2022-01-14T16:59:25.367Z",
     "shell.execute_reply": "2022-01-14T16:59:25.582Z"
    }
   },
   "outputs": [
    {
     "name": "stdout",
     "output_type": "stream",
     "text": [
      "Band \t   Tobs (s) \t    SS (OTF; deg2/hr) \t Sens. (Jy) \t hrs/3e4 deg2 (ideal)\n",
      "----------------------------------------------------------------------------------------------\n",
      "DSA \t   896.2  \t\t 21.3   \t 2.04e-06 \t 1408.0 \n",
      "VLAL \t   24.5  \t\t 20.8   \t 1.22e-04 \t 1442.1 \n",
      "VLAS \t   5.2  \t\t 24.7   \t 1.22e-04 \t 1214.5 \n"
     ]
    }
   ],
   "source": [
    "print(f'Band \\t   Tobs (s) \\t    SS (OTF; deg2/hr) \\t Sens. (Jy) \\t hrs/3e4 deg2 (ideal)')\n",
    "print('----------------------------------------------------------------------------------------------')\n",
    "for band in ['DSA', 'VLAL', 'VLAS']:\n",
    "    config = 'DFACS' if 'DSA' in band else 'VLASS'\n",
    "    na0 = na[config]\n",
    "    s0 = surveyspecs[config][1]\n",
    "    t0 = tobs(s0, sefd[band], na0, bw_max[band], eta[band])\n",
    "    s0 = sensitivity(sefd[band], t0, bw_max[band], eta[band], na0*(na0-1)/2)\n",
    "    print(f'{band} \\t   {t0:.1f}  \\t\\t {surveyspeed(fov[band], t0):.1f}   \\t {s0:1.2e} \\t {surveytime(band, s0, na0, 30000, 1.0):.1f} ')"
   ]
  },
  {
   "cell_type": "markdown",
   "metadata": {},
   "source": [
    "## Re-calculate time required for each survey"
   ]
  },
  {
   "cell_type": "code",
   "execution_count": 7,
   "metadata": {
    "execution": {
     "iopub.execute_input": "2022-01-14T16:59:25.378Z",
     "iopub.status.busy": "2022-01-14T16:59:25.373Z",
     "iopub.status.idle": "2022-01-14T16:59:25.396Z",
     "shell.execute_reply": "2022-01-14T16:59:25.588Z"
    },
    "scrolled": true
   },
   "outputs": [
    {
     "name": "stdout",
     "output_type": "stream",
     "text": [
      "Survey \t s_lim \t  SS \t Time/pointing \t Total Time\n",
      "       \t (Jy)\t (deg/hr) \t (s)    \t   (hr)\n",
      "DFACS \t 2.04e-06 \t 21.3 \t     896.2 \t 1760.0\n",
      "VLASS \t 1.22e-04 \t 24.7 \t     5.2 \t 1749.4\n",
      "\n"
     ]
    }
   ],
   "source": [
    "def get_survey(surveyspecs):\n",
    "    ss = 'Survey \\t s_lim \\t  SS \\t Time/pointing \\t Total Time\\n'\n",
    "    ss += '       \\t (Jy)\\t (deg/hr) \\t (s)    \\t   (hr)\\n'\n",
    "#    ss +='--------------------------------------------------------------------\\n'\n",
    "    for survey in sorted(surveyspecs.keys()):\n",
    "        specs = surveyspecs[survey]\n",
    "        area, s0, band, overhead, tsysfac = specs\n",
    "        config = 'DFACS' if 'DSA' in band else 'VLASS'\n",
    "        na0 = na[config]\n",
    "        tint = tobs(s0, sefd[band], na0, bw_max[band], eta[band])\n",
    "        t0_pointing = tobs(s0, sefd[band], na0, bw_max[band], eta[band])\n",
    "        t0_survey = tsysfac*surveytime(band, s0, na0, area, overhead)\n",
    "        surveyspeed0 = surveyspeed(fov[band], t0_pointing)\n",
    "        ss += f'{survey} \\t {s0:.2e} \\t {surveyspeed0:.1f} \\t     {t0_pointing:.1f} \\t {t0_survey:.1f}\\n'\n",
    "    return ss\n",
    "\n",
    "def print_survey(surveyspecs):\n",
    "    ss = get_survey(surveyspecs)\n",
    "    print(ss)\n",
    "\n",
    "print_survey(surveyspecs)"
   ]
  },
  {
   "cell_type": "code",
   "execution_count": 8,
   "metadata": {},
   "outputs": [
    {
     "name": "stdout",
     "output_type": "stream",
     "text": [
      "Survey \t s_lim \t  SS \t Time/pointing \t Total Time\n",
      "       \t (Jy)\t (deg/hr) \t (s)    \t   (hr)\n",
      "DFACS \t 2.04e-06 \t 21.3 \t     896.2 \t 1760.0\n",
      "VLASS \t 1.22e-04 \t 24.7 \t     5.2 \t 1749.4\n",
      "\n"
     ]
    }
   ],
   "source": [
    "print(get_survey(surveyspecs))\n"
   ]
  },
  {
   "cell_type": "markdown",
   "metadata": {},
   "source": [
    "# healpix calcs of coverage and number of pixels"
   ]
  },
  {
   "cell_type": "code",
   "execution_count": 9,
   "metadata": {},
   "outputs": [
    {
     "name": "stdout",
     "output_type": "stream",
     "text": [
      "nside=2**5 has resolution of 1.8e+00 deg (resolves limit of 3.06 deg)\n",
      "8933 pointings with area 3.36 deg^2\n"
     ]
    }
   ],
   "source": [
    "dec_min = -27\n",
    "nside_thetap = find_hpnside(3.06)\n",
    "n_pointings = int(np.round(healpy.nside2npix(nside_thetap)*(survey_area(dec_min)/survey_area(-90))))\n",
    "thetap_area = healpy.nside2pixarea(nside_thetap, degrees=True)\n",
    "print(f'{n_pointings} pointings with area {thetap_area:.2f} deg^2')"
   ]
  },
  {
   "cell_type": "code",
   "execution_count": 10,
   "metadata": {},
   "outputs": [
    {
     "name": "stdout",
     "output_type": "stream",
     "text": [
      "nside=2**19 has resolution of 1.1e-04 deg (resolves limit of 0.00021220659078919376 deg)\n",
      "2.1809857496091354 Tpixels with resolution 0.40 arcsec\n",
      "17.447885996873083 TB to pixelate whole sky (per product)\n",
      "16384 pixels per pointing (thetab side length)\n",
      "38993 pixels per pointing (first null side length)\n"
     ]
    }
   ],
   "source": [
    "oversample = 4  # pixel/beam\n",
    "nside_thetab = find_hpnside(resolution(1.35e9, 15e3)/3600/oversample)\n",
    "n_pix_tot = int(np.round(healpy.nside2npix(nside_thetab)*(survey_area(dec_min)/survey_area(-90))))\n",
    "thetab_resol = healpy.nside2resol(nside_thetab, arcmin=True)*60\n",
    "print(f'{n_pix_tot/1024**4} Tpixels with resolution {thetab_resol:.2f} arcsec')\n",
    "print(f'{8*n_pix_tot/1024**4} TB to pixelate whole sky (per product)')\n",
    "\n",
    "print(f'{nside_thetab//nside_thetap} pixels per pointing (thetab side length)')\n",
    "print(f'{int(2*1.19*nside_thetab//nside_thetap)} pixels per pointing (first null side length)')"
   ]
  },
  {
   "cell_type": "markdown",
   "metadata": {},
   "source": [
    "Open quesions:\n",
    "\n",
    "- What is the exact wide survey sky area? Deep fields?\n",
    "- What is an optimal cadence?\n",
    "- What is the RC output image size, resolution, and bit depth?\n",
    "- Are there constraints or processing implications for shorter total integration times?"
   ]
  },
  {
   "cell_type": "markdown",
   "metadata": {},
   "source": [
    "Other surveys:\n",
    "- Spectroscopy (DHIS) -- 9700 channels at 134kHz resolution, 4700 channels at 8.4kHz covering HI plus OH\n",
    "- Pulsars/FRBs (DPuBS) -- 16384 channels, 0.8 ms sampling with 20 seconds triggers => 3 GB/beam/trigger and 1 s dedispersed voltage cutout per candidate, 2e9 samples/s => 64 TB/trigger \n",
    "- Polarimetry -- 1000 channels (1.3 MHz, Stokes QUV)"
   ]
  }
 ],
 "metadata": {
  "kernelspec": {
   "display_name": "py37",
   "language": "python",
   "name": "py37"
  },
  "language_info": {
   "codemirror_mode": {
    "name": "ipython",
    "version": 3
   },
   "file_extension": ".py",
   "mimetype": "text/x-python",
   "name": "python",
   "nbconvert_exporter": "python",
   "pygments_lexer": "ipython3",
   "version": "3.7.12"
  },
  "nteract": {
   "version": "0.28.0"
  }
 },
 "nbformat": 4,
 "nbformat_minor": 1
}
