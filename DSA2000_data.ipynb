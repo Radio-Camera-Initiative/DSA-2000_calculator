{
  "cells": [
    {
      "cell_type": "markdown",
      "source": [
        "# DSA-2000 Data\n",
        "## Estimating sizes, rates, and costs for CDR and PDR\n",
        "## Casey Law, claw@astro.caltech.edu"
      ],
      "metadata": {}
    },
    {
      "cell_type": "code",
      "source": [
        "%matplotlib inline\n",
        "\n",
        "import matplotlib.pyplot as plt\n",
        "import numpy as np\n",
        "import healpy"
      ],
      "outputs": [],
      "execution_count": 1,
      "metadata": {
        "execution": {
          "iopub.execute_input": "2023-10-22T16:59:46.393Z",
          "iopub.status.busy": "2023-10-22T16:59:46.387Z",
          "iopub.status.idle": "2023-10-22T16:59:47.020Z",
          "shell.execute_reply": "2023-10-22T16:59:48.130Z"
        }
      }
    },
    {
      "cell_type": "markdown",
      "source": [
        "## Define some useful functions\n"
      ],
      "metadata": {}
    },
    {
      "cell_type": "code",
      "source": [
        "resolution = lambda freq, bmax: 1.22*3600*np.degrees(3e8/float(freq)/bmax) # resolution in asec for freq in Hz, bmax in meters\n",
        "sensitivity = lambda sefd, dt, bw, eta, nbl: sefd/(eta*np.sqrt(nbl*2 * dt * bw * 2))    # sefd in Jy, dt in s, bw in Hz, assumes std correlator eficiency and 2 pols\n",
        "tobs = lambda s0, sefd, na, bw, eta: (sefd/(s0*eta))**2/(na*(na-1)*bw*2)    # obsering time in s (inverse of sensitivity eqn)\n",
        "area_field = lambda fov: 0.5665 * fov**2  # fov in amin\n",
        "surveyspeed = lambda fov, t0: area_field(fov)/t0         # ss in deg2/hr, fov in amin, t0 is time per pointing in s\n",
        "f_beam = lambda rad, fwhm: np.exp(-4*np.log(2)*(rad/fwhm)**2)  # beam function (fractional power at radius rad)\n",
        "\n",
        "datarate_vis = lambda na, nch, npol, tsamp: (na*(na-1)/2)*nch*npol*8/tsamp/1024**2  # MB/s for tsamp in s"
      ],
      "outputs": [],
      "execution_count": 2,
      "metadata": {
        "execution": {
          "iopub.execute_input": "2023-10-22T16:59:47.048Z",
          "iopub.status.busy": "2023-10-22T16:59:47.031Z",
          "iopub.status.idle": "2023-10-22T16:59:47.060Z",
          "shell.execute_reply": "2023-10-22T16:59:48.134Z"
        }
      }
    },
    {
      "cell_type": "code",
      "source": [
        "surveytime = lambda band, sensitivity, area, overhead: overhead * area/surveyspeed(fov[band], tobs(sensitivity, sefd[band], na[band], bw_max[band], eta[band]))   # total time in hours for given band, area in sq deg and sensitivity in Jy\n",
        "\n",
        "# Effective survey speed for extragalactic specs (alpha = -0.7, gamma => euclidean).\n",
        "ess_eg = lambda fov, dt, nu, sensitivity: ess_nuflux(fov, dt, nu, -0.7, sensitivity, -1.5)\n",
        "sigma_confusion = lambda nu, theta: 1.2e-6*(nu/3.02e9)**(-0.7)*(theta/8)**(10/3)  # confusion with freq in Hz, theta in asec (Condon et al 2012)\n",
        "survey_area = lambda dec_lim: (1+np.sin(np.radians(np.abs(dec_lim))))*(2*np.pi*(180/np.pi)**2)  # sq deg, exclude outside dec_lim"
      ],
      "outputs": [],
      "execution_count": 3,
      "metadata": {
        "execution": {
          "iopub.execute_input": "2023-10-22T16:59:47.105Z",
          "iopub.status.busy": "2023-10-22T16:59:47.087Z",
          "iopub.status.idle": "2023-10-22T16:59:47.122Z",
          "shell.execute_reply": "2023-10-22T16:59:48.141Z"
        },
        "jupyter": {
          "outputs_hidden": false,
          "source_hidden": false
        },
        "nteract": {
          "transient": {
            "deleting": false
          }
        }
      }
    },
    {
      "cell_type": "code",
      "source": [
        "def find_hpnside(size, verbose=False):\n",
        "    \"\"\" Use healpix scheme to find optimal nsize for a given size in degrees\n",
        "    \"\"\"\n",
        "    for i in range(20):\n",
        "        resol = np.degrees(healpy.nside2resol(2**i))\n",
        "        if resol < size:\n",
        "            if verbose:\n",
        "                print(f'nside=2**{i} has resolution of {resol:1.1e} deg (resolves limit of {size} deg)')\n",
        "            break\n",
        "    return 2**i"
      ],
      "outputs": [],
      "execution_count": 4,
      "metadata": {
        "execution": {
          "iopub.status.busy": "2023-10-22T16:59:47.139Z",
          "iopub.execute_input": "2023-10-22T16:59:47.151Z",
          "iopub.status.idle": "2023-10-22T16:59:47.161Z",
          "shell.execute_reply": "2023-10-22T16:59:48.144Z"
        }
      }
    },
    {
      "cell_type": "markdown",
      "source": [
        "## Set telescope parameters as a function of band/config"
      ],
      "metadata": {}
    },
    {
      "cell_type": "code",
      "source": [
        "# keys defined for configurations and bands separately.\n",
        "names = ['DSA', 'VLA', 'ASKAP']\n",
        "na = {'DSA': 2000, 'VLA': 27, 'ASKAP': 36}   # number of antennas\n",
        "freq = {'DSA': 1.35e9, 'VLA': 3.0e9, 'ASKAP': 1.28e9}  # band center\n",
        "fov = {'DSA': 60*3.06, 'VLA': 15., 'ASKAP': 60*3.}    # fwhm field of view (theta_pb) in arcminutes  # use Condon et al\n",
        "bw_max = {'DSA': 0.65*1.3e9, 'VLA': 1.5e9, 'ASKAP': 288e6}    # bandwidth (minus RFI)\n",
        "bmax = {'DSA': 17e3, 'VLAB': 11.1e3, 'ASKAP': 6e3}    # longest baselines in meter\n",
        "sefd = {'DSA': 5020, 'VLA': 370, 'ASKAP': 1952}    # array SEFD\n",
        "# VLA sefd values appear high, because we assume 27 ants, whereas exposure calculator uses 25 ants. result is the same in both cases.\n",
        "eta = {'DSA': 1.0, 'VLA': 0.92, 'ASKAP': 1.0}   # correlator efficiency\n",
        "surveyspecs = {'DSA All-Sky': [3e4, 2.04e-6, 1.25, 1.0],\n",
        "               'VLASS': [3.3885e4, 122e-6, 1.17, 1.09],\n",
        "               'ASKAP EMU': [3.0939e4, 10e-6, 1.25, 1.0]}  # something must be wrong with ASKAP numbers"
      ],
      "outputs": [],
      "execution_count": 5,
      "metadata": {
        "execution": {
          "iopub.execute_input": "2023-10-22T16:59:47.178Z",
          "iopub.status.busy": "2023-10-22T16:59:47.171Z",
          "iopub.status.idle": "2023-10-22T16:59:47.207Z",
          "shell.execute_reply": "2023-10-22T16:59:48.148Z"
        }
      }
    },
    {
      "cell_type": "code",
      "source": [
        "blfrac = np.array([   2713.,    4985.,    9054.,   15119.,   22950.,   32325.,\n",
        "          43181.,   55824.,   69858.,   85469.,  102308.,  120628.,\n",
        "         140305.,  161417.,  183853.,  207582.,  231966.,  258083.,\n",
        "         285248.,  313273.,  342334.,  372247.,  403392.,  435111.,\n",
        "         468076.,  501321.,  535350.,  570064.,  605587.,  641260.,\n",
        "         677628.,  714315.,  751568.,  788970.,  826299.,  863931.,\n",
        "         901520.,  939318.,  977137., 1014510., 1051771., 1088905.,\n",
        "        1126009., 1162462., 1198652., 1234562., 1269596., 1304725.,\n",
        "        1338824., 1372722., 1405761., 1438268., 1469989., 1501154.,\n",
        "        1531615., 1561165., 1589887., 1617913., 1645118., 1670979.,\n",
        "        1696439., 1720885., 1744597., 1767487., 1789383., 1810425.,\n",
        "        1830348., 1849484., 1867862., 1885488., 1902348., 1918459.,\n",
        "        1933525., 1947866., 1961529., 1974579., 1986612., 1998076.,\n",
        "        2009133., 2019197., 2028535., 2037223., 2045349., 2052889.,\n",
        "        2059729., 2065997., 2071635., 2076675., 2081213., 2085130.,\n",
        "        2088597., 2091336., 2093612., 2095354., 2096617., 2097443.,\n",
        "        2097907., 2098089., 2098162., 2098176.])/2098176\n",
        "minbl = np.array([    153.93621821,   307.87243643,   461.80865464,\n",
        "          615.74487286,   769.68109107,   923.61730929,  1077.5535275 ,\n",
        "         1231.48974571,  1385.42596393,  1539.36218214,  1693.29840036,\n",
        "         1847.23461857,  2001.17083679,  2155.107055  ,  2309.04327322,\n",
        "         2462.97949143,  2616.91570964,  2770.85192786,  2924.78814607,\n",
        "         3078.72436429,  3232.6605825 ,  3386.59680072,  3540.53301893,\n",
        "         3694.46923714,  3848.40545536,  4002.34167357,  4156.27789179,\n",
        "         4310.21411   ,  4464.15032822,  4618.08654643,  4772.02276464,\n",
        "         4925.95898286,  5079.89520107,  5233.83141929,  5387.7676375 ,\n",
        "         5541.70385572,  5695.64007393,  5849.57629215,  6003.51251036,\n",
        "         6157.44872857,  6311.38494679,  6465.321165  ,  6619.25738322,\n",
        "         6773.19360143,  6927.12981965,  7081.06603786,  7235.00225607,\n",
        "         7388.93847429,  7542.8746925 ,  7696.81091072,  7850.74712893,\n",
        "         8004.68334715,  8158.61956536,  8312.55578357,  8466.49200179,\n",
        "         8620.42822   ,  8774.36443822,  8928.30065643,  9082.23687465,\n",
        "         9236.17309286,  9390.10931108,  9544.04552929,  9697.9817475 ,\n",
        "         9851.91796572, 10005.85418393, 10159.79040215, 10313.72662036,\n",
        "        10467.66283858, 10621.59905679, 10775.535275  , 10929.47149322,\n",
        "        11083.40771143, 11237.34392965, 11391.28014786, 11545.21636608,\n",
        "        11699.15258429, 11853.08880251, 12007.02502072, 12160.96123893,\n",
        "        12314.89745715, 12468.83367536, 12622.76989358, 12776.70611179,\n",
        "        12930.64233001, 13084.57854822, 13238.51476643, 13392.45098465,\n",
        "        13546.38720286, 13700.32342108, 13854.25963929, 14008.19585751,\n",
        "        14162.13207572, 14316.06829393, 14470.00451215, 14623.94073036,\n",
        "        14777.87694858, 14931.81316679, 15085.74938501, 15239.68560322,\n",
        "        15393.62182144])\n",
        "\n",
        "\n",
        "def frac(scale, dist=False):\n",
        "    \"\"\" Fraction of cumulative distribution seen by scale in arcmin\n",
        "    \"\"\"\n",
        "\n",
        "    if not dist:\n",
        "        bl = 1.22*60*np.degrees((3e8/1.35e9))/scale # arcmin to bl in meters\n",
        "    else:\n",
        "        bl = scale\n",
        "\n",
        "    if bl >= max(minbl):\n",
        "        i = len(minbl)-1\n",
        "    elif bl < min(minbl):\n",
        "        return 0.\n",
        "    else:\n",
        "        i = np.where(minbl > bl)[0][0]\n",
        "\n",
        "    return blfrac[i]\n",
        "\n",
        "\n",
        "# reproducing Liam's memo\n",
        "seff = lambda bl, s0: s0/np.sqrt(frac(bl, dist=True))\n",
        "oeff = lambda bl, nbeam: min(10.6, nbeam*1.13*np.degrees((3e8/1100e6)/bl)**2)"
      ],
      "outputs": [],
      "execution_count": 6,
      "metadata": {
        "collapsed": true,
        "jupyter": {
          "source_hidden": false,
          "outputs_hidden": false
        },
        "nteract": {
          "transient": {
            "deleting": false
          }
        },
        "execution": {
          "iopub.status.busy": "2023-10-22T16:59:47.231Z",
          "iopub.execute_input": "2023-10-22T16:59:47.244Z",
          "iopub.status.idle": "2023-10-22T16:59:47.257Z",
          "shell.execute_reply": "2023-10-22T16:59:48.153Z"
        }
      }
    },
    {
      "cell_type": "code",
      "source": [
        "# reproducing Liam's plots\n",
        "\n",
        "s0 = 2.5\n",
        "nbeam_max = 1e6\n",
        "\n",
        "fig, (ax1, ax2, ax3) = plt.subplots(1, 3, figsize=(15, 5))\n",
        "ax1.plot(minbl, blfrac, '.')\n",
        "ax1.set_ylabel('frac (<dcut)')\n",
        "arr = np.linspace(1000, max(minbl), 100)\n",
        "ax2.plot(arr, [seff(dist, s0) for dist in arr], '.')\n",
        "ax2.set_ylabel('Seff (Jy)')\n",
        "ax3.plot(arr, [oeff(dist, nbeam_max) for dist in arr], '.')\n",
        "ax3.set_ylabel('$\\Omega_{eff}$')\n"
      ],
      "outputs": [
        {
          "output_type": "execute_result",
          "execution_count": 7,
          "data": {
            "text/plain": "Text(0, 0.5, '$\\\\Omega_{eff}$')"
          },
          "metadata": {}
        },
        {
          "output_type": "display_data",
          "data": {
            "text/plain": "<Figure size 1500x500 with 3 Axes>",
            "image/png": "[encoded data removed]"
          },
          "metadata": {}
        }
      ],
      "execution_count": 7,
      "metadata": {
        "collapsed": false,
        "jupyter": {
          "source_hidden": false,
          "outputs_hidden": false
        },
        "nteract": {
          "transient": {
            "deleting": false
          }
        },
        "execution": {
          "iopub.status.busy": "2023-10-22T16:59:47.273Z",
          "iopub.execute_input": "2023-10-22T16:59:47.281Z",
          "iopub.status.idle": "2023-10-22T16:59:47.331Z",
          "shell.execute_reply": "2023-10-22T16:59:48.157Z"
        }
      }
    },
    {
      "cell_type": "code",
      "source": [
        "# replace np.sqrt(1) with (np.sqrt(b/bref))\n",
        "rch = lambda dist, alpha: 500*((1100/900)*oeff(dist, nbeam_max))**2/200 * ((50/seff(dist, s0))*np.sqrt(1))**(alpha)\n",
        "rl = lambda dist, alpha: 60*((1100/1350)*oeff(dist, nbeam_max))**2/75 * ((75/seff(dist, s0))*np.sqrt(1))**(alpha)\n"
      ],
      "outputs": [],
      "execution_count": 8,
      "metadata": {
        "collapsed": true,
        "jupyter": {
          "source_hidden": false,
          "outputs_hidden": false
        },
        "nteract": {
          "transient": {
            "deleting": false
          }
        },
        "execution": {
          "iopub.status.busy": "2023-10-22T16:59:47.343Z",
          "iopub.execute_input": "2023-10-22T16:59:47.358Z",
          "iopub.status.idle": "2023-10-22T16:59:47.393Z",
          "shell.execute_reply": "2023-10-22T16:59:48.160Z"
        }
      }
    },
    {
      "cell_type": "code",
      "source": [
        "se = [seff(dist, s0) for dist in arr]\n",
        "rtot = [rch(dist, 1.0)+rl(dist, 1.0) for dist in arr]\n",
        "\n",
        "plt.plot(se, rtot, '.')"
      ],
      "outputs": [
        {
          "output_type": "execute_result",
          "execution_count": 9,
          "data": {
            "text/plain": "[<matplotlib.lines.Line2D at 0x13c6e76d0>]"
          },
          "metadata": {}
        },
        {
          "output_type": "display_data",
          "data": {
            "text/plain": "<Figure size 640x480 with 1 Axes>",
            "image/png": "[encoded data removed]"
          },
          "metadata": {}
        }
      ],
      "execution_count": 9,
      "metadata": {
        "collapsed": true,
        "jupyter": {
          "source_hidden": false,
          "outputs_hidden": false
        },
        "nteract": {
          "transient": {
            "deleting": false
          }
        },
        "execution": {
          "iopub.status.busy": "2023-10-22T16:59:47.405Z",
          "iopub.execute_input": "2023-10-22T16:59:47.421Z",
          "iopub.status.idle": "2023-10-22T16:59:47.451Z",
          "shell.execute_reply": "2023-10-22T16:59:48.163Z"
        }
      }
    },
    {
      "cell_type": "markdown",
      "source": [
        "# Data products\n",
        "\n",
        "1. Cadenced, all-sky survey images\n",
        " - 16 epoch, 10 subband, all-sky survey in Stokes I\n",
        " - 30940 deg2 (Dec>-30) area repeated every 4 months\n",
        " - With healpix, we require 2^18 sides with 0.81” resolution and 5.6e11 pixels across sky\n",
        " - 65% of on-sky time\n",
        "2. Spectral line image cubes\n",
        " - Zoom A (redshifted HI) over 4096 channels (<1420.4 MHz, 8.4 kHz, Stokes I)\n",
        " - Zoom B (local HI/OH) over 2048 channels (1 kHz, Stokes IQUV)\n",
        " - Same spatial coverage as CASS, but stacked epochs\n",
        " - 65% of on-sky time\n",
        "3. Polarimetry image cubes\n",
        " - 605 channels (2.15 MHz, Stokes QUV)\n",
        " - Same spatial coverage as CASS, but stacked epochs\n",
        " - 65% of on-sky time\n",
        "4. GW follow-up imaging\n",
        " - CASS-like, but targeted and deeper\n",
        " - 10 deg2\n",
        " - 5% of on-sky time\n",
        "5. Deep field imaging\n",
        " - 30 deg2 images to 100 nJy depth\n",
        " - 5% of on-sky time\n",
        "6. Mid-tier imaging\n",
        " - Commensal with pulsar timing of known MSPs\n",
        " - 20% of on-sky time\n",
        "7. Pulsar timing\n",
        " - Four, coherently dedispersed beams for all millisecond pulsars observed monthly\n",
        " - Stokes profiles sampled each 10 s over 30 min per target\n",
        " - Profile has 2048 phase bins across pulsar rotation (1.4 to 20 ms)\n",
        " - 20% of on-sky time\n",
        "8. Pulsar search triggers\n",
        " - 1400 MSPs, 14000 CPs per sky per epoch\n",
        " - folded dynamic spectra, 2 bit, 100 microsec resolution over 10 sec, Stokes I, 9 beams, 2500 channels(for visualization/assessment)\n",
        " - 100% of on-sky time\n",
        "9. Fast transient search triggers\n",
        " - Incoherent beam power for 20 seconds of 16384 channels, 0.8 ms sampling, 20 s (FRB search, Stokes I)\n",
        " - 100% of on-sky time\n",
        " - Voltage trigger of 100 ms, 4.4 Gsps, 4000 ant-pols (post-dedispersion)\n",
        " - Beam trigger of 9 beams, 100 microsec samples, 4 sec total, 2500 channels (for visualization/assessment)\n"
      ],
      "metadata": {}
    },
    {
      "cell_type": "markdown",
      "source": [
        "### Data rates"
      ],
      "metadata": {
        "nteract": {
          "transient": {
            "deleting": false
          }
        }
      }
    },
    {
      "cell_type": "code",
      "source": [
        "# starting point\n",
        "e_onsky = 0.85  # onsky efficiency (when operational)\n",
        "e_observing = 0.95  # observing efficiency (fraction on target)\n",
        "\n",
        "hrsperyr = 365.24 * 24\n",
        "hrsperyr_onsky = hrsperyr*e_onsky\n",
        "\n",
        "frac_cass = 0.65  # fraction of time observing cass\n",
        "frac_deep = 0.05  # fraction of time observing deep fields\n",
        "frac_gwf = 0.05  # fraction of time observing GW follow-up\n",
        "frac_pta = 0.25  # fraction of time observing pulsar timing\n"
      ],
      "outputs": [],
      "execution_count": 10,
      "metadata": {
        "collapsed": true,
        "jupyter": {
          "source_hidden": false,
          "outputs_hidden": false
        },
        "nteract": {
          "transient": {
            "deleting": false
          }
        },
        "execution": {
          "iopub.status.busy": "2023-10-22T16:59:47.459Z",
          "iopub.execute_input": "2023-10-22T16:59:47.468Z",
          "iopub.status.idle": "2023-10-22T16:59:47.480Z",
          "shell.execute_reply": "2023-10-22T16:59:48.167Z"
        }
      }
    },
    {
      "cell_type": "code",
      "source": [
        "# Given sensitivity/area, what is the cadence?\n",
        "#s0 = 1.75e-6  # using Steve's mosaic strategy with 19.8min effective observing time. 8174 pointings\n",
        "s0 = 2e-6\n",
        "a0 = 30940\n",
        "o0 = 1/e_observing\n",
        "t_clock = 5\n",
        "t_total = t_clock * 365.24 * 24 * e_onsky # 5 years in hrs with efficiency\n",
        "\n",
        "hrs_cassepoch = surveytime('DSA', s0, a0, o0)\n",
        "n_cassepoch = frac_cass*t_total/hrs_cassepoch\n",
        "print(f'{hrs_cassepoch:.0f} hrs (incl cal) to cover {a0:.0f} sq deg to depth of {s0:.1e} Jy with {n_cassepoch:.1f} epochs in {t_clock} years. Survey speed: {a0/hrs_cassepoch:.1f} deg2/hr. ')\n",
        "\n",
        "# 365.24 * 24 * e_onsky, t_total, t_epoch, t_epoch/(365.24 * 24 * e_onsky)"
      ],
      "outputs": [
        {
          "output_type": "stream",
          "name": "stdout",
          "text": [
            "1590 hrs (incl cal) to cover 30940 sq deg to depth of 2.0e-06 Jy with 15.2 epochs in 5 years. Survey speed: 19.5 deg2/hr. \n"
          ]
        }
      ],
      "execution_count": 11,
      "metadata": {
        "execution": {
          "iopub.status.busy": "2023-10-22T16:59:47.491Z",
          "iopub.execute_input": "2023-10-22T16:59:47.498Z",
          "iopub.status.idle": "2023-10-22T16:59:47.515Z",
          "shell.execute_reply": "2023-10-22T16:59:48.174Z"
        }
      }
    },
    {
      "cell_type": "code",
      "source": [
        "# How big is all-sky image?\n",
        "oversample = 4  # pixel/beam\n",
        "bytesperpix = 4  # bytes per pixel (dynamic range requirement?)\n",
        "dec_min = -30\n",
        "#nside_thetab = find_hpnside(resolution(freq['DSA'], bmax['DSA'])/3600/oversample)\n",
        "nside_thetab = find_hpnside(resolution(13e8, bmax['DSA'])/3600/oversample)\n",
        "nside_thetap = find_hpnside(fov['DSA']/60)\n",
        "n_pix_tot = int(np.round(healpy.nside2npix(nside_thetab)*(survey_area(dec_min)/survey_area(-90))))\n",
        "thetab_resol = healpy.nside2resol(nside_thetab, arcmin=True)*60\n",
        "print(f'Pixelate the sky with {n_pix_tot/1024**4} Tpixels of resolution {thetab_resol:.2f} arcsec (healpix nside={nside_thetab})')\n",
        "print(f'\\tThis requires {bytesperpix*n_pix_tot/1024**4} TB (Stokes I, one band)')\n",
        "\n",
        "print(f'{nside_thetab//nside_thetap} pixels per pointing (thetab side length)')\n",
        "print(f'{int(2*1.19*nside_thetab//nside_thetap)} pixels per pointing (first null side length)')"
      ],
      "outputs": [
        {
          "output_type": "stream",
          "name": "stdout",
          "text": [
            "Pixelate the sky with 0.5625 Tpixels of resolution 0.81 arcsec (healpix nside=262144)\n",
            "\tThis requires 2.25 TB (Stokes I, one band)\n",
            "8192 pixels per pointing (thetab side length)\n",
            "19496 pixels per pointing (first null side length)\n"
          ]
        }
      ],
      "execution_count": 12,
      "metadata": {
        "execution": {
          "iopub.status.busy": "2023-10-22T16:59:47.524Z",
          "iopub.execute_input": "2023-10-22T16:59:47.531Z",
          "iopub.status.idle": "2023-10-22T16:59:47.547Z",
          "shell.execute_reply": "2023-10-22T16:59:48.177Z"
        }
      }
    },
    {
      "cell_type": "code",
      "source": [
        "# How many pointings to cover the sky?\n",
        "n_pointings = int(np.round(healpy.nside2npix(nside_thetap)*(survey_area(dec_min)/survey_area(-90))))\n",
        "ts = 4  # nside pointings/tile\n",
        "n_tiles = int(np.round(healpy.nside2npix(nside_thetap//ts)*(survey_area(dec_min)/survey_area(-90))))\n",
        "thetap_area = healpy.nside2pixarea(nside_thetap, degrees=True)\n",
        "tile_area = healpy.nside2pixarea(nside_thetap//ts, degrees=True)\n",
        "print(f'Cover the sky with {n_pointings} pointings ({thetap_area:.2f} deg^2) and {n_tiles} tiles ({tile_area:.2f} deg^2)')\n",
        "\n",
        "print(healpy.nside2npix(nside_thetab)/healpy.nside2npix(nside_thetap))"
      ],
      "outputs": [
        {
          "output_type": "stream",
          "name": "stdout",
          "text": [
            "Cover the sky with 9216 pointings (3.36 deg^2) and 576 tiles (53.71 deg^2)\n",
            "67108864.0\n"
          ]
        }
      ],
      "execution_count": 13,
      "metadata": {
        "execution": {
          "iopub.status.busy": "2023-10-22T16:59:47.556Z",
          "iopub.execute_input": "2023-10-22T16:59:47.562Z",
          "iopub.status.idle": "2023-10-22T16:59:47.573Z",
          "shell.execute_reply": "2023-10-22T16:59:48.180Z"
        }
      }
    },
    {
      "cell_type": "markdown",
      "source": [
        "### CASS data rates: DR1, DR2, DR3"
      ],
      "metadata": {}
    },
    {
      "cell_type": "code",
      "source": [
        "# derived from DR3 post processing\n",
        "# data rate is based on number of mosaicked pixels generated per year\n",
        "\n",
        "nbands = 10\n",
        "rate1 = bytesperpix*nbands*n_pix_tot/hrs_cassepoch/frac_cass  # all sky image per year in B/hr\n",
        "print(f\"{rate1/1e9:0.1f} GB/hr averaged over year (epoch {hrs_cassepoch:.1f} hr)\")"
      ],
      "outputs": [
        {
          "output_type": "stream",
          "name": "stdout",
          "text": [
            "23.9 GB/hr averaged over year (epoch 1590.3 hr)\n"
          ]
        }
      ],
      "execution_count": 14,
      "metadata": {
        "collapsed": true,
        "jupyter": {
          "source_hidden": false,
          "outputs_hidden": false
        },
        "nteract": {
          "transient": {
            "deleting": false
          }
        },
        "execution": {
          "iopub.status.busy": "2023-10-22T16:59:47.582Z",
          "iopub.execute_input": "2023-10-22T16:59:47.589Z",
          "iopub.status.idle": "2023-10-22T16:59:47.602Z",
          "shell.execute_reply": "2023-10-22T16:59:48.186Z"
        }
      }
    },
    {
      "cell_type": "code",
      "source": [
        "# 5360, 134 kHz subbands, Stokes I\n",
        "# 2048 ch, full-Stokes in zoom a\n",
        "# 4096 ch, stokes I in zoom b\n",
        "# data rate is based on number of mosaicked pixels generated in first epoch (later ones are accumulated)\n",
        "\n",
        "rate2 = bytesperpix*(5360 + 2048 + 4096)*n_pix_tot/hrs_cassepoch\n",
        "print(f\"{rate2/1e9:0.1f} GB/hr per epoch ({hrs_cassepoch:.1f} hr)\")"
      ],
      "outputs": [
        {
          "output_type": "stream",
          "name": "stdout",
          "text": [
            "17896.2 GB/hr per epoch (1590.3 hr)\n"
          ]
        }
      ],
      "execution_count": 15,
      "metadata": {
        "collapsed": true,
        "jupyter": {
          "source_hidden": false,
          "outputs_hidden": false
        },
        "nteract": {
          "transient": {
            "deleting": false
          }
        },
        "execution": {
          "iopub.status.busy": "2023-10-22T16:59:47.610Z",
          "iopub.execute_input": "2023-10-22T16:59:47.616Z",
          "iopub.status.idle": "2023-10-22T16:59:47.629Z",
          "shell.execute_reply": "2023-10-22T16:59:48.190Z"
        }
      }
    },
    {
      "cell_type": "code",
      "source": [
        "# 605, 2.15 MHz subbands, full-Stokes\n",
        "# notes: 16k channels total of width 134 kHz.\n",
        "# 9680 channels selected across 2.2 GHz sampled band.\n",
        "# 605 servers sample from 1000 channels in range from 0-2.2 GHz.\n",
        "# data rate is based on number of mosaicked pixels generated in first epoch (later ones are accumulated)\n",
        "\n",
        "rate3 = bytesperpix*(4*605)*n_pix_tot/hrs_cassepoch\n",
        "print(f\"{rate3/1e9:0.1f} GB/hr per epoch ({hrs_cassepoch:.1f} hr)\")"
      ],
      "outputs": [
        {
          "output_type": "stream",
          "name": "stdout",
          "text": [
            "3764.7 GB/hr per epoch (1590.3 hr)\n"
          ]
        }
      ],
      "execution_count": 16,
      "metadata": {
        "collapsed": true,
        "jupyter": {
          "source_hidden": false,
          "outputs_hidden": false
        },
        "nteract": {
          "transient": {
            "deleting": false
          }
        },
        "execution": {
          "iopub.status.busy": "2023-10-22T16:59:47.640Z",
          "iopub.execute_input": "2023-10-22T16:59:47.645Z",
          "iopub.status.idle": "2023-10-22T16:59:47.657Z",
          "shell.execute_reply": "2023-10-22T16:59:48.193Z"
        }
      }
    },
    {
      "cell_type": "markdown",
      "source": [
        "### GW follow-up rate: DR4"
      ],
      "metadata": {
        "nteract": {
          "transient": {
            "deleting": false
          }
        }
      }
    },
    {
      "cell_type": "code",
      "source": [
        "s0 = 1e-6\n",
        "a0 = 10\n",
        "o0 = 1/e_observing\n",
        "hrs_gwepoch = surveytime('DSA', s0, a0, o0)\n",
        "# fraction of time defines number of gw follow-up fields\n",
        "n_gwepoch = (frac_gwf*hrsperyr_onsky)/hrs_gwepoch\n",
        "print(f\"{int(n_gwepoch)} GW follow-up observations of {hrs_gwepoch:.1f} hrs, {a0} deg2 to depth {s0} Jy\")"
      ],
      "outputs": [
        {
          "output_type": "stream",
          "name": "stdout",
          "text": [
            "181 GW follow-up observations of 2.1 hrs, 10 deg2 to depth 1e-06 Jy\n"
          ]
        }
      ],
      "execution_count": 17,
      "metadata": {
        "collapsed": true,
        "jupyter": {
          "source_hidden": false,
          "outputs_hidden": false
        },
        "nteract": {
          "transient": {
            "deleting": false
          }
        },
        "execution": {
          "iopub.status.busy": "2023-10-22T16:59:47.667Z",
          "iopub.execute_input": "2023-10-22T16:59:47.672Z",
          "iopub.status.idle": "2023-10-22T16:59:47.684Z",
          "shell.execute_reply": "2023-10-22T16:59:48.196Z"
        }
      }
    },
    {
      "cell_type": "code",
      "source": [
        "npix_field = (nside_thetab//nside_thetap)**2\n",
        "\n",
        "rate4 = nbands*n_gwepoch*bytesperpix*npix_field/hrsperyr_onsky\n",
        "print(f\"{rate4/1e9} GB/hr averaged over year for {int(n_gwepoch)} fields and {nbands} bands\")"
      ],
      "outputs": [
        {
          "output_type": "stream",
          "name": "stdout",
          "text": [
            "0.06528310711466313 GB/hr averaged over year for 181 fields and 10 bands\n"
          ]
        }
      ],
      "execution_count": 18,
      "metadata": {
        "collapsed": true,
        "jupyter": {
          "source_hidden": false,
          "outputs_hidden": false
        },
        "nteract": {
          "transient": {
            "deleting": false
          }
        },
        "execution": {
          "iopub.status.busy": "2023-10-22T16:59:47.693Z",
          "iopub.execute_input": "2023-10-22T16:59:47.698Z",
          "iopub.status.idle": "2023-10-22T16:59:47.712Z",
          "shell.execute_reply": "2023-10-22T16:59:48.199Z"
        }
      }
    },
    {
      "cell_type": "markdown",
      "source": [
        "### Deep rate: DR5"
      ],
      "metadata": {
        "nteract": {
          "transient": {
            "deleting": false
          }
        }
      }
    },
    {
      "cell_type": "code",
      "source": [
        "# deep, wider field\n",
        "s0 = 50e-9\n",
        "a0 = 20\n",
        "o0 = 1/e_observing\n",
        "hrs_deepepoch = surveytime('DSA', s0, a0, o0)\n",
        "# fraction of time defines number of gw follow-up fields\n",
        "n_deepepoch = (frac_deep*hrsperyr_onsky)/hrs_deepepoch\n",
        "print(f\"{hrs_deepepoch:.1f} hrs ({n_deepepoch:.2f} of field per year) on deep field of {a0} deg2 to depth {s0} Jy\")\n",
        "\n",
        "npix_field = a0/thetap_area*(nside_thetab//nside_thetap)**2\n",
        "\n",
        "rate5 = nbands*bytesperpix*npix_field/(frac_deep*hrsperyr_onsky)\n",
        "print(f\"{rate5/1e9:0.4f} GB/hr averaged over year with {nbands} bands\")"
      ],
      "outputs": [
        {
          "output_type": "stream",
          "name": "stdout",
          "text": [
            "1644.7 hrs (0.23 of field per year) on deep field of 20 deg2 to depth 5e-08 Jy\n",
            "0.0429 GB/hr averaged over year with 10 bands\n"
          ]
        }
      ],
      "execution_count": 19,
      "metadata": {
        "collapsed": true,
        "jupyter": {
          "source_hidden": false,
          "outputs_hidden": false
        },
        "nteract": {
          "transient": {
            "deleting": false
          }
        },
        "execution": {
          "iopub.status.busy": "2023-10-22T16:59:47.721Z",
          "iopub.execute_input": "2023-10-22T16:59:47.727Z",
          "iopub.status.idle": "2023-10-22T16:59:47.741Z",
          "shell.execute_reply": "2023-10-22T16:59:48.202Z"
        }
      }
    },
    {
      "cell_type": "markdown",
      "source": [
        "### Mid rate: DR6"
      ],
      "metadata": {
        "nteract": {
          "transient": {
            "deleting": false
          }
        }
      }
    },
    {
      "cell_type": "code",
      "source": [
        "# commensal imaging on PTA\n",
        "hrs_ptaepoch = frac_pta*hrsperyr_onsky\n",
        "n_pta = 200\n",
        "npix_field = (nside_thetab//nside_thetap)**2\n",
        "\n",
        "rate6 = nbands*bytesperpix*npix_field*n_pta/hrsperyr_onsky\n",
        "print(f\"{rate6/1e9} GB/hr averaged over year with {nbands} bands on {n_pta} targets.\")"
      ],
      "outputs": [
        {
          "output_type": "stream",
          "name": "stdout",
          "text": [
            "0.07205454377567476 GB/hr averaged over year with 10 bands on 200 targets.\n"
          ]
        }
      ],
      "execution_count": 20,
      "metadata": {
        "collapsed": true,
        "jupyter": {
          "source_hidden": false,
          "outputs_hidden": false
        },
        "nteract": {
          "transient": {
            "deleting": false
          }
        },
        "execution": {
          "iopub.status.busy": "2023-10-22T16:59:47.749Z",
          "iopub.execute_input": "2023-10-22T16:59:47.754Z",
          "iopub.status.idle": "2023-10-22T16:59:47.767Z",
          "shell.execute_reply": "2023-10-22T16:59:48.205Z"
        }
      }
    },
    {
      "cell_type": "markdown",
      "source": [
        "### PTA rate: DR7"
      ],
      "metadata": {
        "nteract": {
          "transient": {
            "deleting": false
          }
        }
      }
    },
    {
      "cell_type": "code",
      "source": [
        "# Stokes profile assumptions\n",
        "# 1 sec resolution over 30 min\n",
        "# 2048 phase bins across 1.4 and ~20 ms\n",
        "# 2.048 MHz channels across 1.3 GHz band\n",
        "# 4 stokes parameters\n",
        "# 1 of four beams used on average\n",
        "# 32b floats\n",
        "# 200 targets with 1 month cadence\n",
        "# total data: [phase]*[freq]*[time]*[pol]*[beam]\n",
        "\n",
        "bytes_ptasample = 1*4*4*2048*(1300/2.048)  # a sample size\n",
        "rate7 = bytes_ptasample * hrs_ptaepoch/(1/3600)/hrsperyr_onsky\n",
        "print(f\"{rate7/1e9:.1f} GB/hr averaged over year for {hrs_ptaepoch:.1f} hrs. ({bytes_ptasample*1800/1e9:.1f} GB per 30min session)\")"
      ],
      "outputs": [
        {
          "output_type": "stream",
          "name": "stdout",
          "text": [
            "18.7 GB/hr averaged over year for 1862.7 hrs. (37.4 GB per 30min session)\n"
          ]
        }
      ],
      "execution_count": 21,
      "metadata": {
        "collapsed": true,
        "jupyter": {
          "source_hidden": false,
          "outputs_hidden": false
        },
        "nteract": {
          "transient": {
            "deleting": false
          }
        },
        "execution": {
          "iopub.status.busy": "2023-10-22T16:59:47.777Z",
          "iopub.execute_input": "2023-10-22T16:59:47.783Z",
          "iopub.status.idle": "2023-10-22T16:59:47.796Z",
          "shell.execute_reply": "2023-10-22T16:59:48.208Z"
        }
      }
    },
    {
      "cell_type": "markdown",
      "source": [
        "### Periodicity search rate: DR8"
      ],
      "metadata": {
        "nteract": {
          "transient": {
            "deleting": false
          }
        }
      }
    },
    {
      "cell_type": "code",
      "source": [
        "# per source: 9 beams, 4B, full stokes, 100 microsec samples, 4 sec total, 2500 channels\n",
        "bytes_psrsample = 4*9*4*(4/0.1)*2500\n",
        "npsr = 1400+14000  # from Myles, per CASS epoch\n",
        "rate8 = bytes_psrsample*npsr/hrs_cassepoch/frac_cass  # assume most sources found in CASS\n",
        "print(f\"{rate8/1e9:.1f} GB/hr averaged over year for {npsr} PSR detections during CASS\")"
      ],
      "outputs": [
        {
          "output_type": "stream",
          "name": "stdout",
          "text": [
            "0.2 GB/hr averaged over year for 15400 PSR detections during CASS\n"
          ]
        }
      ],
      "execution_count": 22,
      "metadata": {
        "collapsed": true,
        "jupyter": {
          "source_hidden": false,
          "outputs_hidden": false
        },
        "nteract": {
          "transient": {
            "deleting": false
          }
        },
        "execution": {
          "iopub.status.busy": "2023-10-22T16:59:47.804Z",
          "iopub.execute_input": "2023-10-22T16:59:47.811Z",
          "iopub.status.idle": "2023-10-22T16:59:47.825Z",
          "shell.execute_reply": "2023-10-22T16:59:48.211Z"
        }
      }
    },
    {
      "cell_type": "markdown",
      "source": [
        "### Single-pulse search rate: DR9"
      ],
      "metadata": {
        "nteract": {
          "transient": {
            "deleting": false
          }
        }
      }
    },
    {
      "cell_type": "code",
      "source": [
        "# power trigger per source: 9 beams, 4B, full stokes, 100 microsec samples, 4 sec total, 2500 channels\n",
        "# voltage trigger per source: 4000 ants, 4.4 Gsps, 100 msec (dedispersed cutout)\n",
        "\n",
        "nfrb = 2000  # Liam estimates range of 800-4000/yr\n",
        "bytes_voltagesample = 4.4e9 * 4000 * 1e-1\n",
        "\n",
        "rate9 = nfrb*(bytes_psrsample + bytes_voltagesample)/hrs_cassepoch/frac_cass\n",
        "rate9b = nfrb*(2*bytes_psrsample)/hrs_cassepoch/frac_cass\n",
        "print(f\"{rate9/1e9:.1f} GB/hr averaged over year for {nfrb} FRB detections during CASS ({rate9b/1e9:.1e} GB/hr after processing). Power triggers are {bytes_psrsample/bytes_voltagesample:.1e} fraction of voltage trigger\")\n"
      ],
      "outputs": [
        {
          "output_type": "stream",
          "name": "stdout",
          "text": [
            "3405.4 GB/hr averaged over year for 2000 FRB detections during CASS (5.6e-02 GB/hr after processing). Power triggers are 8.2e-06 fraction of voltage trigger\n"
          ]
        }
      ],
      "execution_count": 23,
      "metadata": {
        "collapsed": true,
        "jupyter": {
          "source_hidden": false,
          "outputs_hidden": false
        },
        "nteract": {
          "transient": {
            "deleting": false
          }
        },
        "execution": {
          "iopub.status.busy": "2023-10-22T16:59:47.834Z",
          "iopub.execute_input": "2023-10-22T16:59:47.841Z",
          "iopub.status.idle": "2023-10-22T16:59:47.855Z",
          "shell.execute_reply": "2023-10-22T16:59:48.213Z"
        }
      }
    },
    {
      "cell_type": "markdown",
      "source": [
        "### Summary"
      ],
      "metadata": {
        "nteract": {
          "transient": {
            "deleting": false
          }
        }
      }
    },
    {
      "cell_type": "code",
      "source": [
        "rates = [rate1, rate2, rate3, rate4, rate5, rate6, rate7, rate8, rate9]\n",
        "over = 5  # raw image size relative to post-processing size\n",
        "\n",
        "print(\"raw GB/hr over year 1:\")\n",
        "print(f\"2: {over*rate2/1e9:.1e}, 3: {over*rate3/1e9:.1e}, 4: {over*rate4/1e9:.1e}, 5: {over*rate5/1e9:.1e}, 6: {over*rate6/1e9:.1e}, 7: {rate7/1e9:.1e}, 8: {rate8/1e9:.1e}, 9: {rate9/1e9:.1e}\") \n",
        "print(\"Post-processing GB/hr over year 1:\")\n",
        "print(f\"1: {rate1/1e9:.1e}, 2: {rate2/1e9:.1e}, 3: {rate3/1e9:.1e}, 4: {rate4/1e9:.1e}, 5: {rate5/1e9:.1e}, 6: {rate6/1e9:.1e}, 7: {rate7/1e9:.1e}, 8: {rate8/1e9:.1e}, 9: {rate9b/1e9:.1e}\") \n",
        "\n",
        "print(\"raw GB/hr over years 2 through 5:\")\n",
        "print(f\"1: {rate3/4/1e9:.1e}, 4: {rate4/1e9:.1e}, 5: {rate5/1e9:.1e}, 6: {rate6/1e9:.1e}, 7: {rate7/1e9:.1e}, 8: {rate8/1e9:.1e}, 9: {rate9/1e9:.1e}\") \n",
        "print(\"Post-processing GB/hr over years 2 through 5 potentially moved off site:\")\n",
        "print(f\"1: {rate1/1e9:.1e}, 4: {rate4/1e9:.1e}, 5: {rate5/1e9:.1e}, 6: {rate6/1e9:.1e}, 7: {rate7/1e9:.1e}, 8: {rate8/1e9:.1e}, 9: {rate9b/1e9:.1e}\") "
      ],
      "outputs": [
        {
          "output_type": "stream",
          "name": "stdout",
          "text": [
            "raw GB/hr over year 1:\n",
            "2: 8.9e+04, 3: 1.9e+04, 4: 3.3e-01, 5: 2.1e-01, 6: 3.6e-01, 7: 1.9e+01, 8: 2.1e-01, 9: 3.4e+03\n",
            "Post-processing GB/hr over year 1:\n",
            "1: 2.4e+01, 2: 1.8e+04, 3: 3.8e+03, 4: 6.5e-02, 5: 4.3e-02, 6: 7.2e-02, 7: 1.9e+01, 8: 2.1e-01, 9: 5.6e-02\n",
            "raw GB/hr over years 2 through 5:\n",
            "1: 9.4e+02, 4: 6.5e-02, 5: 4.3e-02, 6: 7.2e-02, 7: 1.9e+01, 8: 2.1e-01, 9: 3.4e+03\n",
            "Post-processing GB/hr over years 2 through 5 potentially moved off site:\n",
            "1: 2.4e+01, 4: 6.5e-02, 5: 4.3e-02, 6: 7.2e-02, 7: 1.9e+01, 8: 2.1e-01, 9: 5.6e-02\n"
          ]
        }
      ],
      "execution_count": 24,
      "metadata": {
        "collapsed": true,
        "jupyter": {
          "source_hidden": false,
          "outputs_hidden": false
        },
        "nteract": {
          "transient": {
            "deleting": false
          }
        },
        "execution": {
          "iopub.status.busy": "2023-10-22T16:59:47.864Z",
          "iopub.execute_input": "2023-10-22T16:59:47.869Z",
          "iopub.status.idle": "2023-10-22T16:59:47.880Z",
          "shell.execute_reply": "2023-10-22T16:59:48.216Z"
        }
      }
    },
    {
      "cell_type": "code",
      "source": [
        "sum1_raw = sum([over*rate1*hrsperyr_onsky, over*(rate2+rate3)*hrsperyr_onsky*frac_cass, over*rate4*hrsperyr_onsky, over*rate5*hrsperyr_onsky, over*rate6*hrsperyr_onsky, rate7*hrsperyr_onsky, rate8*hrsperyr_onsky, rate9*hrsperyr_onsky])/1e15\n",
        "\n",
        "sum1_post = sum([rate1*hrsperyr_onsky, (rate2+rate3)*hrs_cassepoch, rate4*hrsperyr_onsky, rate5*hrsperyr_onsky, rate6*hrsperyr_onsky, rate7*hrsperyr_onsky, rate8*hrsperyr_onsky, rate9b*hrsperyr_onsky])/1e15\n",
        "\n",
        "sum25_post = sum([rate1*hrsperyr_onsky, rate4*hrsperyr_onsky, rate5*hrsperyr_onsky, rate6*hrsperyr_onsky, rate7*hrsperyr_onsky, rate8*hrsperyr_onsky, rate9b*hrsperyr_onsky])/1e12\n",
        "\n",
        "print(f\"{sum1_raw:.1f} PB raw each year\")\n",
        "print(f\"Post-processing of {sum1_post:.2f} PB in yr 1.\")\n",
        "print(f\"raw rate23: {over*(rate2+rate3)*hrsperyr_onsky*frac_cass/1e15:.1f}\")\n",
        "print(f\"raw rate9: {rate9*hrsperyr_onsky/1e15:.1f}\")\n",
        "print(f\"rate1: {rate1*hrsperyr_onsky/1e12:.1f}\")\n",
        "print(f\"rate7: {rate7*hrsperyr_onsky/1e12:.1f}\")\n",
        "print(f\"Post-processing of {sum25_post:.1f} TB/yr in yrs 2-5 ({1e3*sum25_post*8/(365.24*24*3600):.2f} Gb/s moving off site).\")"
      ],
      "outputs": [
        {
          "output_type": "stream",
          "name": "stdout",
          "text": [
            "550.9 PB raw each year\n",
            "Post-processing of 34.77 PB in yr 1.\n",
            "raw rate23: 524.5\n",
            "raw rate9: 25.4\n",
            "rate1: 178.3\n",
            "rate7: 139.5\n",
            "Post-processing of 321.2 TB/yr in yrs 2-5 (0.08 Gb/s moving off site).\n"
          ]
        }
      ],
      "execution_count": 25,
      "metadata": {
        "collapsed": true,
        "jupyter": {
          "source_hidden": false,
          "outputs_hidden": false
        },
        "nteract": {
          "transient": {
            "deleting": false
          }
        },
        "execution": {
          "iopub.status.busy": "2023-10-22T16:59:47.888Z",
          "iopub.execute_input": "2023-10-22T16:59:47.894Z",
          "iopub.status.idle": "2023-10-22T16:59:47.907Z",
          "shell.execute_reply": "2023-10-22T16:59:48.219Z"
        }
      }
    },
    {
      "cell_type": "markdown",
      "source": [
        "# And now for something completely different (PDR)\n",
        "\n",
        "## Field and tile image calculations for RCP and DAT storage"
      ],
      "metadata": {
        "nteract": {
          "transient": {
            "deleting": false
          }
        }
      }
    },
    {
      "cell_type": "code",
      "source": [
        "imlen = 2**14\n",
        "imsize = bytesperpix*imlen**2\n",
        "\n",
        "print(f'{imsize/1e9:.1f} GB per field image (per pol-chan)')"
      ],
      "outputs": [
        {
          "output_type": "stream",
          "name": "stdout",
          "text": [
            "1.1 GB per field image (per pol-chan)\n"
          ]
        }
      ],
      "execution_count": 26,
      "metadata": {
        "collapsed": true,
        "jupyter": {
          "source_hidden": false,
          "outputs_hidden": false
        },
        "nteract": {
          "transient": {
            "deleting": false
          }
        },
        "execution": {
          "iopub.status.busy": "2023-10-22T16:59:47.915Z",
          "iopub.execute_input": "2023-10-22T16:59:47.921Z",
          "iopub.status.idle": "2023-10-22T16:59:47.936Z",
          "shell.execute_reply": "2023-10-22T16:59:48.222Z"
        }
      }
    },
    {
      "cell_type": "code",
      "source": [
        "# channels\n",
        "n_za = 960\n",
        "n_zb = 4192\n",
        "n_nl = 5600 # 5492\n",
        "n_mp = 500*4 # 625*4\n",
        "n_wc = 10\n",
        "n_fc = 1\n",
        "n_totrcp = n_za+n_zb+n_nl+n_mp\n",
        "n_totdat = n_za+n_zb+n_nl+n_mp+n_wc+n_fc\n",
        "print(f'{n_totdat} pol-chan field images output by DAT. {n_totrcp} by RCP.')"
      ],
      "outputs": [
        {
          "output_type": "stream",
          "name": "stdout",
          "text": [
            "12763 pol-chan field images output by DAT. 12752 by RCP.\n"
          ]
        }
      ],
      "execution_count": 34,
      "metadata": {
        "collapsed": true,
        "jupyter": {
          "source_hidden": false,
          "outputs_hidden": false
        },
        "nteract": {
          "transient": {
            "deleting": false
          }
        },
        "execution": {
          "iopub.status.busy": "2023-10-22T17:00:51.597Z",
          "iopub.execute_input": "2023-10-22T17:00:51.605Z",
          "iopub.status.idle": "2023-10-22T17:00:51.655Z",
          "shell.execute_reply": "2023-10-22T17:00:51.669Z"
        }
      }
    },
    {
      "cell_type": "code",
      "source": [
        "# from Steve Myers Survey Implementation Plan (18 Oct 2023)\n",
        "n_fields = 8594  # cover 30940 sq deg\n",
        "n_tile = 341  # cover fields as roughly 5x5. 4.3 hrs on sky per tile\n",
        "t_field = 10.3*60 # seconds of on-sky time per field"
      ],
      "outputs": [],
      "execution_count": 35,
      "metadata": {
        "collapsed": true,
        "jupyter": {
          "source_hidden": false,
          "outputs_hidden": false
        },
        "nteract": {
          "transient": {
            "deleting": false
          }
        },
        "execution": {
          "iopub.status.busy": "2023-10-22T17:00:57.462Z",
          "iopub.execute_input": "2023-10-22T17:00:57.481Z",
          "iopub.status.idle": "2023-10-22T17:00:57.500Z",
          "shell.execute_reply": "2023-10-22T17:00:57.510Z"
        }
      }
    },
    {
      "cell_type": "code",
      "source": [
        "# total field data rate (into on-RCP distributed storage)\n",
        "ngbs_dat = (n_totrcp * imsize / t_field) / 1e9\n",
        "\n",
        "print(f'{ngbs_dat:.1f} GB/s output by RCP total (assuming continual observing)')"
      ],
      "outputs": [
        {
          "output_type": "stream",
          "name": "stdout",
          "text": [
            "22.2 GB/s output by RCP total (assuming continual observing)\n"
          ]
        }
      ],
      "execution_count": 36,
      "metadata": {
        "collapsed": true,
        "jupyter": {
          "source_hidden": false,
          "outputs_hidden": false
        },
        "nteract": {
          "transient": {
            "deleting": false
          }
        },
        "execution": {
          "iopub.status.busy": "2023-10-22T17:00:58.860Z",
          "iopub.execute_input": "2023-10-22T17:00:58.872Z",
          "iopub.status.idle": "2023-10-22T17:00:58.891Z",
          "shell.execute_reply": "2023-10-22T17:00:58.897Z"
        }
      }
    },
    {
      "cell_type": "markdown",
      "source": [
        "## On-RCP storage for field images\n"
      ],
      "metadata": {
        "nteract": {
          "transient": {
            "deleting": false
          }
        }
      }
    },
    {
      "cell_type": "code",
      "source": [
        "n_gpu = 10  # gpus per server\n",
        "n_rcpl = 5  # output channels per GPU. 16 pol-chans (130 kHz) in and 4 (I; 130 kHz) plus 1 (IQUV; 2 MHz = 16x130 kHz) out\n",
        "n_rcph = 1  # output channels per GPU. 16 pol-chans (130 kHz) in and 1 (IQUV; 2 MHz) out\n",
        "n_rcpz = 4  # output channels per GPU. 16 pol-chans (130 kHz) in and 4 (I; 130 kHz) out\n",
        "\n",
        "ntb_rcpl = n_rcpl*n_gpu * imsize / 1e12 / t_field * (0.8 * 24*3600*3)  # TB for 3 days of fields with 80% on-sky time\n",
        "ntb_rcph = n_rcph*n_gpu * imsize / 1e12 / t_field * (0.8 * 24*3600*3)\n",
        "ntb_rcpz = n_rcpz*n_gpu * imsize / 1e12 / t_field * (0.8 * 24*3600*3)\n",
        "\n",
        "print(f'3-day on-RCP field storage per server (TB): {ntb_rcpl:.1f} RCP-L, {ntb_rcph:.1f} RCP-H, {ntb_rcpz:.1f} RCP-Z (for 80% on-target efficiency)')"
      ],
      "outputs": [
        {
          "output_type": "stream",
          "name": "stdout",
          "text": [
            "3-day on-RCP field storage per server (TB): 18.0 RCP-L, 3.6 RCP-H, 14.4 RCP-Z (for 80% on-target efficiency)\n"
          ]
        }
      ],
      "execution_count": 30,
      "metadata": {
        "collapsed": true,
        "jupyter": {
          "source_hidden": false,
          "outputs_hidden": false
        },
        "nteract": {
          "transient": {
            "deleting": false
          }
        },
        "execution": {
          "iopub.status.busy": "2023-10-22T16:59:48.031Z",
          "iopub.execute_input": "2023-10-22T16:59:48.036Z",
          "iopub.status.idle": "2023-10-22T16:59:48.048Z",
          "shell.execute_reply": "2023-10-22T16:59:48.241Z"
        }
      }
    },
    {
      "cell_type": "markdown",
      "source": [
        "## Mosaic and comparess to reduce I/O to centralized storage system\n",
        "\n",
        "Full stacks and one-epoch mosaics kept there\n",
        "\n",
        "Note: all fields kept in distributed storage on RCP until used for all mosaics. Mosaics written out for minimal area (no 1.8x inflation for edges)"
      ],
      "metadata": {
        "nteract": {
          "transient": {
            "deleting": false
          }
        }
      }
    },
    {
      "cell_type": "code",
      "source": [
        "f_mos = 2.93 # from the SIP (reduction factor for mosaic over pointings, but keeping mosaic edges)\n",
        "f_comp = 2  # reduction factor for compression (e.g., from bitshuffle test and paper)"
      ],
      "outputs": [],
      "execution_count": 31,
      "metadata": {
        "collapsed": true,
        "jupyter": {
          "source_hidden": false,
          "outputs_hidden": false
        },
        "nteract": {
          "transient": {
            "deleting": false
          }
        },
        "execution": {
          "iopub.status.busy": "2023-10-22T16:59:48.056Z",
          "iopub.execute_input": "2023-10-22T16:59:48.061Z",
          "iopub.status.idle": "2023-10-22T16:59:48.070Z",
          "shell.execute_reply": "2023-10-22T16:59:48.244Z"
        }
      }
    },
    {
      "cell_type": "code",
      "source": [
        "# scale from GB/s out of RCP to notional epoch of 4 months in DAT\n",
        "npb_4months = ngbs_dat * (0.8*24*3600*30.4*4) / f_mos / f_comp / 1e6\n",
        "ngbs_datout = ngbs_dat / f_mos / f_comp\n",
        "\n",
        "print(f'{ngbs_datout:.1f} GB/s mosaic output by DAT. {npb_4months:.1f} PB of storage for 4 month epoch of all mosaics')"
      ],
      "outputs": [
        {
          "output_type": "stream",
          "name": "stdout",
          "text": [
            "3.8 GB/s mosaic output by DAT. 31.8 PB of storage for 4 month epoch of all mosaics\n"
          ]
        }
      ],
      "execution_count": 40,
      "metadata": {
        "collapsed": true,
        "jupyter": {
          "source_hidden": false,
          "outputs_hidden": false
        },
        "nteract": {
          "transient": {
            "deleting": false
          }
        },
        "execution": {
          "iopub.status.busy": "2023-10-22T17:09:36.657Z",
          "iopub.execute_input": "2023-10-22T17:09:36.666Z",
          "iopub.status.idle": "2023-10-22T17:09:36.683Z",
          "shell.execute_reply": "2023-10-22T17:09:36.692Z"
        }
      }
    },
    {
      "cell_type": "markdown",
      "source": [
        "## Stacks"
      ],
      "metadata": {
        "nteract": {
          "transient": {
            "deleting": false
          }
        }
      }
    },
    {
      "cell_type": "code",
      "source": [
        "npb_dat_stack = n_totdat*bytesperpix*n_pix_tot/f_comp/1024**5\n",
        "  \n",
        "print(f'Cover sky with {n_pix_tot/1e12:.2f} Terapixels of {bytesperpix*n_pix_tot/1024**4} TB per pol-chan and {npb_dat_stack:.1f} PB total')"
      ],
      "outputs": [
        {
          "output_type": "stream",
          "name": "stdout",
          "text": [
            "Cover sky with 0.62 Terapixels of 2.25 TB per pol-chan and 14.5 PB total\n"
          ]
        }
      ],
      "execution_count": 33,
      "metadata": {
        "collapsed": true,
        "jupyter": {
          "source_hidden": false,
          "outputs_hidden": false
        },
        "nteract": {
          "transient": {
            "deleting": false
          }
        },
        "execution": {
          "iopub.status.busy": "2023-10-22T16:59:48.107Z",
          "iopub.execute_input": "2023-10-22T16:59:48.113Z",
          "iopub.status.idle": "2023-10-22T16:59:48.124Z",
          "shell.execute_reply": "2023-10-22T16:59:48.250Z"
        }
      }
    },
    {
      "cell_type": "code",
      "source": [
        "print(f'{npb_4months + npb_dat_stack:.1f} PB total centralizd storage')"
      ],
      "outputs": [
        {
          "output_type": "stream",
          "name": "stdout",
          "text": [
            "46.2 PB total centralizd storage\n"
          ]
        }
      ],
      "execution_count": 45,
      "metadata": {
        "collapsed": true,
        "jupyter": {
          "source_hidden": false,
          "outputs_hidden": false
        },
        "nteract": {
          "transient": {
            "deleting": false
          }
        },
        "execution": {
          "iopub.status.busy": "2023-10-22T17:11:40.994Z",
          "iopub.execute_input": "2023-10-22T17:11:41.004Z",
          "iopub.status.idle": "2023-10-22T17:11:41.020Z",
          "shell.execute_reply": "2023-10-22T17:11:41.026Z"
        }
      }
    },
    {
      "cell_type": "code",
      "source": [],
      "outputs": [],
      "execution_count": null,
      "metadata": {
        "collapsed": true,
        "jupyter": {
          "source_hidden": false,
          "outputs_hidden": false
        },
        "nteract": {
          "transient": {
            "deleting": false
          }
        }
      }
    }
  ],
  "metadata": {
    "kernelspec": {
      "display_name": "py37",
      "language": "python",
      "name": "py37"
    },
    "language_info": {
      "name": "python",
      "version": "3.8.12",
      "mimetype": "text/x-python",
      "codemirror_mode": {
        "name": "ipython",
        "version": 3
      },
      "pygments_lexer": "ipython3",
      "nbconvert_exporter": "python",
      "file_extension": ".py"
    },
    "nteract": {
      "version": "0.28.0"
    }
  },
  "nbformat": 4,
  "nbformat_minor": 1
}