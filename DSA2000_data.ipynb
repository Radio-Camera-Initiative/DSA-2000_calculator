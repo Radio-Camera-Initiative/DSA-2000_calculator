{
  "cells": [
    {
      "cell_type": "markdown",
      "source": [
        "# DSA-2000 Data\n",
        "## Estimating sizes, rates, and costs for CDR\n",
        "## Casey Law, claw@astro.caltech.edu"
      ],
      "metadata": {}
    },
    {
      "cell_type": "code",
      "source": [
        "%matplotlib inline\n",
        "\n",
        "import matplotlib.pyplot as plt\n",
        "import numpy as np\n",
        "import healpy"
      ],
      "outputs": [],
      "execution_count": 1,
      "metadata": {
        "execution": {
          "iopub.execute_input": "2022-04-24T01:45:23.789Z",
          "iopub.status.busy": "2022-04-24T01:45:23.780Z",
          "iopub.status.idle": "2022-04-24T01:45:23.806Z",
          "shell.execute_reply": "2022-04-24T01:45:25.045Z"
        }
      }
    },
    {
      "cell_type": "markdown",
      "source": [
        "## Define some useful functions\n"
      ],
      "metadata": {}
    },
    {
      "cell_type": "code",
      "source": [
        "resolution = lambda freq, bmax: 1.22*3600*np.degrees(3e8/float(freq)/bmax) # resolution in asec for freq in Hz, bmax in meters\n",
        "sensitivity = lambda sefd, dt, bw, eta, nbl: sefd/(eta*np.sqrt(nbl*2 * dt * bw * 2))    # sefd in Jy, dt in s, bw in Hz, assumes std correlator eficiency and 2 pols\n",
        "tobs = lambda s0, sefd, na, bw, eta: (sefd/(s0*eta))**2/(na*(na-1)*bw*2)    # obsering time in s (inverse of sensitivity eqn)\n",
        "area_field = lambda fov: 0.5665 * fov**2  # fov in amin\n",
        "surveyspeed = lambda fov, t0: area_field(fov)/t0         # ss in deg2/hr, fov in amin, t0 is time per pointing in s\n",
        "f_beam = lambda rad, fwhm: np.exp(-4*np.log(2)*(rad/fwhm)**2)  # beam function (fractional power at radius rad)\n",
        "\n",
        "datarate_vis = lambda na, nch, npol, tsamp: (na*(na-1)/2)*nch*npol*8/tsamp/1024**2  # MB/s for tsamp in s"
      ],
      "outputs": [],
      "execution_count": 2,
      "metadata": {
        "execution": {
          "iopub.execute_input": "2022-04-24T01:45:23.826Z",
          "iopub.status.busy": "2022-04-24T01:45:23.818Z",
          "iopub.status.idle": "2022-04-24T01:45:23.841Z",
          "shell.execute_reply": "2022-04-24T01:45:25.050Z"
        }
      }
    },
    {
      "cell_type": "code",
      "source": [
        "surveytime = lambda band, sensitivity, area, overhead: overhead * area/surveyspeed(fov[band], tobs(sensitivity, sefd[band], na[band], bw_max[band], eta[band]))   # total time in hours for given band, area in sq deg and sensitivity in Jy\n",
        "\n",
        "# Effective survey speed for extragalactic specs (alpha = -0.7, gamma => euclidean).\n",
        "ess_eg = lambda fov, dt, nu, sensitivity: ess_nuflux(fov, dt, nu, -0.7, sensitivity, -1.5)\n",
        "sigma_confusion = lambda nu, theta: 1.2e-6*(nu/3.02e9)**(-0.7)*(theta/8)**(10/3)  # confusion with freq in Hz, theta in asec (Condon et al 2012)\n",
        "survey_area = lambda dec_lim: (1+np.sin(np.radians(np.abs(dec_lim))))*(2*np.pi*(180/np.pi)**2)  # sq deg, exclude outside dec_lim"
      ],
      "outputs": [],
      "execution_count": 3,
      "metadata": {
        "execution": {
          "iopub.execute_input": "2022-04-24T01:45:23.860Z",
          "iopub.status.busy": "2022-04-24T01:45:23.852Z",
          "iopub.status.idle": "2022-04-24T01:45:23.878Z",
          "shell.execute_reply": "2022-04-24T01:45:25.056Z"
        },
        "jupyter": {
          "outputs_hidden": false,
          "source_hidden": false
        },
        "nteract": {
          "transient": {
            "deleting": false
          }
        }
      }
    },
    {
      "cell_type": "code",
      "source": [
        "def find_hpnside(size, verbose=False):\n",
        "    \"\"\" Use healpix scheme to find optimal nsize for a given size in degrees\n",
        "    \"\"\"\n",
        "    for i in range(20):\n",
        "        resol = np.degrees(healpy.nside2resol(2**i))\n",
        "        if resol < size:\n",
        "            if verbose:\n",
        "                print(f'nside=2**{i} has resolution of {resol:1.1e} deg (resolves limit of {size} deg)')\n",
        "            break\n",
        "    return 2**i"
      ],
      "outputs": [],
      "execution_count": 4,
      "metadata": {
        "execution": {
          "iopub.status.busy": "2022-04-24T01:45:23.891Z",
          "iopub.execute_input": "2022-04-24T01:45:23.899Z",
          "iopub.status.idle": "2022-04-24T01:45:23.915Z",
          "shell.execute_reply": "2022-04-24T01:45:25.062Z"
        }
      }
    },
    {
      "cell_type": "markdown",
      "source": [
        "## Set telescope parameters as a function of band/config"
      ],
      "metadata": {}
    },
    {
      "cell_type": "code",
      "source": [
        "# keys defined for configurations and bands separately.\n",
        "names = ['DSA', 'VLA', 'ASKAP']\n",
        "na = {'DSA': 2000, 'VLA': 27, 'ASKAP': 36}   # number of antennas\n",
        "freq = {'DSA': 1.35e9, 'VLA': 3.0e9, 'ASKAP': 1.28e9}  # band center\n",
        "fov = {'DSA': 60*3.06, 'VLA': 15., 'ASKAP': 60*3.}    # fwhm field of view (theta_pb) in arcminutes\n",
        "bw_max = {'DSA': 0.65*1.3e9, 'VLA': 1.5e9, 'ASKAP': 288e6}    # bandwidth (minus RFI)\n",
        "bmax = {'DSA': 17e3, 'VLAB': 11.1e3, 'ASKAP': 6e3}    # longest baselines in meter\n",
        "sefd = {'DSA': 5020, 'VLA': 370, 'ASKAP': 1952}    # array SEFD\n",
        "# VLA sefd values appear high, because we assume 27 ants, whereas exposure calculator uses 25 ants. result is the same in both cases.\n",
        "eta = {'DSA': 1.0, 'VLA': 0.92, 'ASKAP': 1.0}   # correlator efficiency\n",
        "surveyspecs = {'DSA All-Sky': [3e4, 2.04e-6, 1.25, 1.0],\n",
        "               'VLASS': [3.3885e4, 122e-6, 1.17, 1.09],\n",
        "               'ASKAP EMU': [3.0939e4, 10e-6, 1.25, 1.0]}  # something must be wrong with ASKAP numbers"
      ],
      "outputs": [],
      "execution_count": 5,
      "metadata": {
        "execution": {
          "iopub.execute_input": "2022-04-24T01:45:23.944Z",
          "iopub.status.busy": "2022-04-24T01:45:23.930Z",
          "iopub.status.idle": "2022-04-24T01:45:24.077Z",
          "shell.execute_reply": "2022-04-24T01:45:25.069Z"
        }
      }
    },
    {
      "cell_type": "code",
      "source": [
        "blfrac = np.array([   2713.,    4985.,    9054.,   15119.,   22950.,   32325.,\n",
        "          43181.,   55824.,   69858.,   85469.,  102308.,  120628.,\n",
        "         140305.,  161417.,  183853.,  207582.,  231966.,  258083.,\n",
        "         285248.,  313273.,  342334.,  372247.,  403392.,  435111.,\n",
        "         468076.,  501321.,  535350.,  570064.,  605587.,  641260.,\n",
        "         677628.,  714315.,  751568.,  788970.,  826299.,  863931.,\n",
        "         901520.,  939318.,  977137., 1014510., 1051771., 1088905.,\n",
        "        1126009., 1162462., 1198652., 1234562., 1269596., 1304725.,\n",
        "        1338824., 1372722., 1405761., 1438268., 1469989., 1501154.,\n",
        "        1531615., 1561165., 1589887., 1617913., 1645118., 1670979.,\n",
        "        1696439., 1720885., 1744597., 1767487., 1789383., 1810425.,\n",
        "        1830348., 1849484., 1867862., 1885488., 1902348., 1918459.,\n",
        "        1933525., 1947866., 1961529., 1974579., 1986612., 1998076.,\n",
        "        2009133., 2019197., 2028535., 2037223., 2045349., 2052889.,\n",
        "        2059729., 2065997., 2071635., 2076675., 2081213., 2085130.,\n",
        "        2088597., 2091336., 2093612., 2095354., 2096617., 2097443.,\n",
        "        2097907., 2098089., 2098162., 2098176.])/2098176\n",
        "minbl = np.array([    153.93621821,   307.87243643,   461.80865464,\n",
        "          615.74487286,   769.68109107,   923.61730929,  1077.5535275 ,\n",
        "         1231.48974571,  1385.42596393,  1539.36218214,  1693.29840036,\n",
        "         1847.23461857,  2001.17083679,  2155.107055  ,  2309.04327322,\n",
        "         2462.97949143,  2616.91570964,  2770.85192786,  2924.78814607,\n",
        "         3078.72436429,  3232.6605825 ,  3386.59680072,  3540.53301893,\n",
        "         3694.46923714,  3848.40545536,  4002.34167357,  4156.27789179,\n",
        "         4310.21411   ,  4464.15032822,  4618.08654643,  4772.02276464,\n",
        "         4925.95898286,  5079.89520107,  5233.83141929,  5387.7676375 ,\n",
        "         5541.70385572,  5695.64007393,  5849.57629215,  6003.51251036,\n",
        "         6157.44872857,  6311.38494679,  6465.321165  ,  6619.25738322,\n",
        "         6773.19360143,  6927.12981965,  7081.06603786,  7235.00225607,\n",
        "         7388.93847429,  7542.8746925 ,  7696.81091072,  7850.74712893,\n",
        "         8004.68334715,  8158.61956536,  8312.55578357,  8466.49200179,\n",
        "         8620.42822   ,  8774.36443822,  8928.30065643,  9082.23687465,\n",
        "         9236.17309286,  9390.10931108,  9544.04552929,  9697.9817475 ,\n",
        "         9851.91796572, 10005.85418393, 10159.79040215, 10313.72662036,\n",
        "        10467.66283858, 10621.59905679, 10775.535275  , 10929.47149322,\n",
        "        11083.40771143, 11237.34392965, 11391.28014786, 11545.21636608,\n",
        "        11699.15258429, 11853.08880251, 12007.02502072, 12160.96123893,\n",
        "        12314.89745715, 12468.83367536, 12622.76989358, 12776.70611179,\n",
        "        12930.64233001, 13084.57854822, 13238.51476643, 13392.45098465,\n",
        "        13546.38720286, 13700.32342108, 13854.25963929, 14008.19585751,\n",
        "        14162.13207572, 14316.06829393, 14470.00451215, 14623.94073036,\n",
        "        14777.87694858, 14931.81316679, 15085.74938501, 15239.68560322,\n",
        "        15393.62182144])\n",
        "\n",
        "\n",
        "def frac(scale, dist=False):\n",
        "    \"\"\" Fraction of cumulative distribution seen by scale in arcmin\n",
        "    \"\"\"\n",
        "\n",
        "    if not dist:\n",
        "        bl = 1.22*60*np.degrees((3e8/1.35e9))/scale # arcmin to bl in meters\n",
        "    else:\n",
        "        bl = scale\n",
        "\n",
        "    if bl >= max(minbl):\n",
        "        i = len(minbl)-1\n",
        "    elif bl < min(minbl):\n",
        "        return 0.\n",
        "    else:\n",
        "        i = np.where(minbl > bl)[0][0]\n",
        "\n",
        "    return blfrac[i]\n",
        "\n",
        "\n",
        "# reproducing Liam's memo\n",
        "seff = lambda bl, s0: s0/np.sqrt(frac(bl, dist=True))\n",
        "oeff = lambda bl, nbeam: min(10.6, nbeam*1.13*np.degrees((3e8/1100e6)/bl)**2)"
      ],
      "outputs": [],
      "execution_count": 6,
      "metadata": {
        "collapsed": true,
        "jupyter": {
          "source_hidden": false,
          "outputs_hidden": false
        },
        "nteract": {
          "transient": {
            "deleting": false
          }
        },
        "execution": {
          "iopub.status.busy": "2022-04-24T01:45:24.093Z",
          "iopub.execute_input": "2022-04-24T01:45:24.102Z",
          "iopub.status.idle": "2022-04-24T01:45:24.118Z",
          "shell.execute_reply": "2022-04-24T01:45:25.077Z"
        }
      }
    },
    {
      "cell_type": "code",
      "source": [
        "# reproducing Liam's plots\n",
        "\n",
        "s0 = 2.5\n",
        "nbeam_max = 1e6\n",
        "\n",
        "fig, (ax1, ax2, ax3) = plt.subplots(1, 3, figsize=(15, 5))\n",
        "ax1.plot(minbl, blfrac, '.')\n",
        "ax1.set_ylabel('frac (<dcut)')\n",
        "arr = np.linspace(1000, max(minbl), 100)\n",
        "ax2.plot(arr, [seff(dist, s0) for dist in arr], '.')\n",
        "ax2.set_ylabel('Seff (Jy)')\n",
        "ax3.plot(arr, [oeff(dist, nbeam_max) for dist in arr], '.')\n",
        "ax3.set_ylabel('$\\Omega_{eff}$')\n"
      ],
      "outputs": [
        {
          "output_type": "execute_result",
          "execution_count": 7,
          "data": {
            "text/plain": "Text(0, 0.5, '$\\\\Omega_{eff}$')"
          },
          "metadata": {}
        },
        {
          "output_type": "display_data",
          "data": {
            "text/plain": "<Figure size 1080x360 with 3 Axes>",
            "image/png": "[encoded data removed]"
          },
          "metadata": {
            "needs_background": "light"
          }
        }
      ],
      "execution_count": 7,
      "metadata": {
        "collapsed": false,
        "jupyter": {
          "source_hidden": false,
          "outputs_hidden": false
        },
        "nteract": {
          "transient": {
            "deleting": false
          }
        },
        "execution": {
          "iopub.status.busy": "2022-04-24T01:45:24.132Z",
          "iopub.execute_input": "2022-04-24T01:45:24.140Z",
          "iopub.status.idle": "2022-04-24T01:45:24.177Z",
          "shell.execute_reply": "2022-04-24T01:45:25.083Z"
        }
      }
    },
    {
      "cell_type": "code",
      "source": [
        "# replace np.sqrt(1) with (np.sqrt(b/bref))\n",
        "rch = lambda dist, alpha: 500*((1100/900)*oeff(dist, nbeam_max))**2/200 * ((50/seff(dist, s0))*np.sqrt(1))**(alpha)\n",
        "rl = lambda dist, alpha: 60*((1100/1350)*oeff(dist, nbeam_max))**2/75 * ((75/seff(dist, s0))*np.sqrt(1))**(alpha)\n"
      ],
      "outputs": [],
      "execution_count": 8,
      "metadata": {
        "collapsed": true,
        "jupyter": {
          "source_hidden": false,
          "outputs_hidden": false
        },
        "nteract": {
          "transient": {
            "deleting": false
          }
        },
        "execution": {
          "iopub.status.busy": "2022-04-24T01:45:24.190Z",
          "iopub.execute_input": "2022-04-24T01:45:24.198Z",
          "iopub.status.idle": "2022-04-24T01:45:24.217Z",
          "shell.execute_reply": "2022-04-24T01:45:25.088Z"
        }
      }
    },
    {
      "cell_type": "code",
      "source": [
        "se = [seff(dist, s0) for dist in arr]\n",
        "rtot = [rch(dist, 1.0)+rl(dist, 1.0) for dist in arr]\n",
        "\n",
        "plt.plot(se, rtot, '.')"
      ],
      "outputs": [
        {
          "output_type": "execute_result",
          "execution_count": 9,
          "data": {
            "text/plain": "[<matplotlib.lines.Line2D at 0x15094ba90>]"
          },
          "metadata": {}
        },
        {
          "output_type": "display_data",
          "data": {
            "text/plain": "<Figure size 432x288 with 1 Axes>",
            "image/png": "[encoded data removed]"
          },
          "metadata": {
            "needs_background": "light"
          }
        }
      ],
      "execution_count": 9,
      "metadata": {
        "collapsed": true,
        "jupyter": {
          "source_hidden": false,
          "outputs_hidden": false
        },
        "nteract": {
          "transient": {
            "deleting": false
          }
        },
        "execution": {
          "iopub.status.busy": "2022-04-24T01:45:24.231Z",
          "iopub.execute_input": "2022-04-24T01:45:24.241Z",
          "iopub.status.idle": "2022-04-24T01:45:24.264Z",
          "shell.execute_reply": "2022-04-24T01:45:25.093Z"
        }
      }
    },
    {
      "cell_type": "markdown",
      "source": [
        "# Data products\n",
        "\n",
        "1. Cadenced, all-sky survey images\n",
        " - 16 epoch, 10 subband, all-sky survey in Stokes I\n",
        " - 3pi steradians repeated every 4 months\n",
        " - With healpix, we require 2^18 sides with 0.81” resolution and 0.8e12 pixels across sky\n",
        " - 65% of on-sky time\n",
        "2. Spectral line image cubes\n",
        " - Zoom A (redshifted HI) over 4096 channels (<1420.4 MHz, 8.4 kHz, Stokes I)\n",
        " - Zoom B (local HI/OH) over 2048 channels (1 kHz, Stokes I)\n",
        " - Same spatial coverage as CASS\n",
        " - 65% of on-sky time\n",
        "3. Polarimetry image cubes\n",
        " - 1024 channels (1.3 MHz, Stokes IQUV)\n",
        " - Same spatial coverage as CASS\n",
        " - 65% of on-sky time\n",
        "4. GW follow-up imaging\n",
        " - CASS-like, but targeted and deeper\n",
        " - 10 deg2\n",
        " - 5% of on-sky time\n",
        "5. Deep field imaging\n",
        " - 30 deg2 images to 100 nJy depth\n",
        " - 5% of on-sky time\n",
        "6. Mid-tier imaging\n",
        " - Commensal with pulsar timing of known MSPs\n",
        " - 20% of on-sky time\n",
        "7. Pulsar timing\n",
        " - Four, coherently dedispersed beams for all millisecond pulsars observed monthly\n",
        " - Stokes profiles sampled each 10 s over 30 min per target\n",
        " - Profile has 2048 phase bins across pulsar rotation (1.4 to 20 ms)\n",
        " - 20% of on-sky time\n",
        "8. Pulsar search triggers\n",
        " - 1400 MSPs, 14000 CPs per sky per epoch\n",
        " - folded dynamic spectra, 2 bit, 100 microsec resolution over 10 sec, Stokes I, 9 beams, 2500 channels(for visualization/assessment)\n",
        " - 100% of on-sky time\n",
        "9. Fast transient search triggers\n",
        " - Incoherent beam power for 20 seconds of 16384 channels, 0.8 ms sampling, 20 s (FRB search, Stokes I)\n",
        " - 100% of on-sky time\n",
        " - Voltage trigger of 100 ms, 4.4 Gsps, 4000 ant-pols (post-dedispersion)\n",
        " - Beam trigger of 9 beams, 100 microsec samples, 4 sec total, 2500 channels (for visualization/assessment)\n"
      ],
      "metadata": {}
    },
    {
      "cell_type": "markdown",
      "source": [
        "### Data rates"
      ],
      "metadata": {
        "nteract": {
          "transient": {
            "deleting": false
          }
        }
      }
    },
    {
      "cell_type": "code",
      "source": [
        "# starting point\n",
        "e_onsky = 0.8  # onsky efficiency (when operational)\n",
        "e_observing = 0.8  # observing efficiency (fraction on target)\n",
        "\n",
        "hrsperyr = 365.24 * 24\n",
        "hrsperyr_onsky = hrsperyr*e_onsky\n",
        "\n",
        "frac_cass = 0.65  # fraction of time observing cass\n",
        "frac_deep = 0.05  # fraction of time observing deep fields\n",
        "frac_gwf = 0.05  # fraction of time observing GW follow-up\n",
        "frac_pta = 0.25  # fraction of time observing pulsar timing\n"
      ],
      "outputs": [],
      "execution_count": 10,
      "metadata": {
        "collapsed": true,
        "jupyter": {
          "source_hidden": false,
          "outputs_hidden": false
        },
        "nteract": {
          "transient": {
            "deleting": false
          }
        },
        "execution": {
          "iopub.status.busy": "2022-04-24T01:45:24.285Z",
          "iopub.execute_input": "2022-04-24T01:45:24.296Z",
          "iopub.status.idle": "2022-04-24T01:45:24.306Z",
          "shell.execute_reply": "2022-04-24T01:45:25.098Z"
        }
      }
    },
    {
      "cell_type": "code",
      "source": [
        "# Given sensitivity/area, what is the cadence?\n",
        "s0 = 2e-6\n",
        "a0 = 3e4\n",
        "o0 = 1.25\n",
        "t_clock = 5\n",
        "t_total = t_clock * 365.24 * 24 * e_onsky # 5 years in hrs with efficiency\n",
        "\n",
        "hrs_cassepoch = surveytime('DSA', s0, a0, o0)/e_observing\n",
        "print(f'{hrs_cassepoch:.0f} hrs to cover {a0:.0f} sq deg to depth of {s0:.1e} Jy with {frac_cass*t_total/hrs_cassepoch:.1f} epochs in {t_clock} years')\n",
        "\n",
        "# 365.24 * 24 * e_onsky, t_total, t_epoch, t_epoch/(365.24 * 24 * e_onsky)"
      ],
      "outputs": [
        {
          "output_type": "stream",
          "name": "stdout",
          "text": [
            "2289 hrs to cover 30000 sq deg to depth of 2.0e-06 Jy with 10.0 epochs in 5 years\n"
          ]
        }
      ],
      "execution_count": 11,
      "metadata": {
        "execution": {
          "iopub.status.busy": "2022-04-24T01:45:24.316Z",
          "iopub.execute_input": "2022-04-24T01:45:24.329Z",
          "iopub.status.idle": "2022-04-24T01:45:24.346Z",
          "shell.execute_reply": "2022-04-24T01:45:25.103Z"
        }
      }
    },
    {
      "cell_type": "code",
      "source": [
        "# How big is all-sky image?\n",
        "oversample = 4  # pixel/beam\n",
        "bytesperpix = 4  # bytes per pixel (dynamic range requirement?)\n",
        "dec_min = -30\n",
        "nside_thetab = find_hpnside(resolution(freq['DSA'], bmax['DSA'])/3600/oversample)\n",
        "nside_thetap = find_hpnside(fov['DSA']/60)\n",
        "n_pix_tot = int(np.round(healpy.nside2npix(nside_thetab)*(survey_area(dec_min)/survey_area(-90))))\n",
        "thetab_resol = healpy.nside2resol(nside_thetab, arcmin=True)*60\n",
        "print(f'Pixelate the sky with {n_pix_tot/1024**4} Tpixels of resolution {thetab_resol:.2f} arcsec (healpix nside={nside_thetab})')\n",
        "print(f'\\tThis requires {bytesperpix*n_pix_tot/1024**4} TB (Stokes I, one band)')\n",
        "\n",
        "print(f'{nside_thetab//nside_thetap} pixels per pointing (thetab side length)')\n",
        "print(f'{int(2*1.19*nside_thetab//nside_thetap)} pixels per pointing (first null side length)')"
      ],
      "outputs": [
        {
          "output_type": "stream",
          "name": "stdout",
          "text": [
            "Pixelate the sky with 0.5625 Tpixels of resolution 0.81 arcsec (healpix nside=262144)\n",
            "\tThis requires 2.25 TB (Stokes I, one band)\n",
            "8192 pixels per pointing (thetab side length)\n",
            "19496 pixels per pointing (first null side length)\n"
          ]
        }
      ],
      "execution_count": 12,
      "metadata": {
        "execution": {
          "iopub.status.busy": "2022-04-24T01:45:24.360Z",
          "iopub.execute_input": "2022-04-24T01:45:24.375Z",
          "iopub.status.idle": "2022-04-24T01:45:24.397Z",
          "shell.execute_reply": "2022-04-24T01:45:25.109Z"
        }
      }
    },
    {
      "cell_type": "code",
      "source": [
        "# How many pointings to cover the sky?\n",
        "n_pointings = int(np.round(healpy.nside2npix(nside_thetap)*(survey_area(dec_min)/survey_area(-90))))\n",
        "thetap_area = healpy.nside2pixarea(nside_thetap, degrees=True)\n",
        "print(f'Cover the sky with {n_pointings} pointings of healpix area {thetap_area:.2f} deg^2')"
      ],
      "outputs": [
        {
          "output_type": "stream",
          "name": "stdout",
          "text": [
            "Cover the sky with 9216 pointings of healpix area 3.36 deg^2\n"
          ]
        }
      ],
      "execution_count": 13,
      "metadata": {
        "execution": {
          "iopub.status.busy": "2022-04-24T01:45:24.416Z",
          "iopub.execute_input": "2022-04-24T01:45:24.426Z",
          "iopub.status.idle": "2022-04-24T01:45:24.447Z",
          "shell.execute_reply": "2022-04-24T01:45:25.114Z"
        }
      }
    },
    {
      "cell_type": "markdown",
      "source": [
        "### CASS data rates: DR1, DR2, DR3"
      ],
      "metadata": {}
    },
    {
      "cell_type": "code",
      "source": [
        "nbands = 10\n",
        "rate1 = bytesperpix*nbands*n_pix_tot/hrs_cassepoch/frac_cass  # all sky image per year in B/hr\n",
        "print(f\"{rate1/1e9:0.1f} GB/hr averaged over year (epoch {hrs_cassepoch:.1f} hr)\")"
      ],
      "outputs": [
        {
          "output_type": "stream",
          "name": "stdout",
          "text": [
            "16.6 GB/hr averaged over year (epoch 2288.8 hr)\n"
          ]
        }
      ],
      "execution_count": 14,
      "metadata": {
        "collapsed": true,
        "jupyter": {
          "source_hidden": false,
          "outputs_hidden": false
        },
        "nteract": {
          "transient": {
            "deleting": false
          }
        },
        "execution": {
          "iopub.status.busy": "2022-04-24T01:45:24.462Z",
          "iopub.execute_input": "2022-04-24T01:45:24.473Z",
          "iopub.status.idle": "2022-04-24T01:45:24.494Z",
          "shell.execute_reply": "2022-04-24T01:45:25.119Z"
        }
      }
    },
    {
      "cell_type": "code",
      "source": [
        "rate2 = rate1 * (4096 + 2048)/nbands  # zoom a and b have more channels\n",
        "print(f\"{rate2/1e9:0.1f} GB/hr averaged over year (epoch {hrs_cassepoch:.1f} hr)\")"
      ],
      "outputs": [
        {
          "output_type": "stream",
          "name": "stdout",
          "text": [
            "10216.6 GB/hr averaged over year (epoch 2288.8 hr)\n"
          ]
        }
      ],
      "execution_count": 15,
      "metadata": {
        "collapsed": true,
        "jupyter": {
          "source_hidden": false,
          "outputs_hidden": false
        },
        "nteract": {
          "transient": {
            "deleting": false
          }
        },
        "execution": {
          "iopub.status.busy": "2022-04-24T01:45:24.508Z",
          "iopub.execute_input": "2022-04-24T01:45:24.521Z",
          "iopub.status.idle": "2022-04-24T01:45:24.545Z",
          "shell.execute_reply": "2022-04-24T01:45:25.124Z"
        }
      }
    },
    {
      "cell_type": "code",
      "source": [
        "rate3 = rate1 * (4*1024)/nbands  # pols*quasicontinuum bands\n",
        "print(f\"{rate3/1e9:0.1f} GB/hr averaged over year (epoch {hrs_cassepoch:.1f} hr)\")"
      ],
      "outputs": [
        {
          "output_type": "stream",
          "name": "stdout",
          "text": [
            "6811.1 GB/hr averaged over year (epoch 2288.8 hr)\n"
          ]
        }
      ],
      "execution_count": 16,
      "metadata": {
        "collapsed": true,
        "jupyter": {
          "source_hidden": false,
          "outputs_hidden": false
        },
        "nteract": {
          "transient": {
            "deleting": false
          }
        },
        "execution": {
          "iopub.status.busy": "2022-04-24T01:45:24.563Z",
          "iopub.execute_input": "2022-04-24T01:45:24.572Z",
          "iopub.status.idle": "2022-04-24T01:45:24.592Z",
          "shell.execute_reply": "2022-04-24T01:45:25.129Z"
        }
      }
    },
    {
      "cell_type": "markdown",
      "source": [
        "### GW follow-up rate: DR4"
      ],
      "metadata": {
        "nteract": {
          "transient": {
            "deleting": false
          }
        }
      }
    },
    {
      "cell_type": "code",
      "source": [
        "# deeper, smaller field\n",
        "s0 = 1e-6\n",
        "a0 = 10\n",
        "o0 = 1.25\n",
        "hrs_gwepoch = surveytime('DSA', s0, a0, o0)/e_observing\n",
        "# fraction of time defines number of gw follow-up fields\n",
        "n_gwepoch = (frac_gwf*hrsperyr_onsky)/hrs_gwepoch\n",
        "print(f\"{int(n_gwepoch)} GW follow-up observations of {hrs_gwepoch:.1f} hrs, {a0} deg2 to depth {s0} Jy\")"
      ],
      "outputs": [
        {
          "output_type": "stream",
          "name": "stdout",
          "text": [
            "114 GW follow-up observations of 3.1 hrs, 10 deg2 to depth 1e-06 Jy\n"
          ]
        }
      ],
      "execution_count": 17,
      "metadata": {
        "collapsed": true,
        "jupyter": {
          "source_hidden": false,
          "outputs_hidden": false
        },
        "nteract": {
          "transient": {
            "deleting": false
          }
        },
        "execution": {
          "iopub.status.busy": "2022-04-24T01:45:24.610Z",
          "iopub.execute_input": "2022-04-24T01:45:24.626Z",
          "iopub.status.idle": "2022-04-24T01:45:24.656Z",
          "shell.execute_reply": "2022-04-24T01:45:25.134Z"
        }
      }
    },
    {
      "cell_type": "code",
      "source": [
        "npix_field = (nside_thetab//nside_thetap)**2\n",
        "bytes_field = bytesperpix*npix_field\n",
        "\n",
        "rate4 = nbands*n_gwepoch*bytes_field/hrsperyr_onsky\n",
        "print(f\"{rate4/1e9} GB/hr averaged over year for {int(n_gwepoch)} fields and {nbands} bands\")"
      ],
      "outputs": [
        {
          "output_type": "stream",
          "name": "stdout",
          "text": [
            "0.04398019847724673 GB/hr averaged over year for 114 fields and 10 bands\n"
          ]
        }
      ],
      "execution_count": 18,
      "metadata": {
        "collapsed": true,
        "jupyter": {
          "source_hidden": false,
          "outputs_hidden": false
        },
        "nteract": {
          "transient": {
            "deleting": false
          }
        },
        "execution": {
          "iopub.status.busy": "2022-04-24T01:45:24.677Z",
          "iopub.execute_input": "2022-04-24T01:45:24.687Z",
          "iopub.status.idle": "2022-04-24T01:45:24.710Z",
          "shell.execute_reply": "2022-04-24T01:45:25.139Z"
        }
      }
    },
    {
      "cell_type": "markdown",
      "source": [
        "### Deep rate: DR5"
      ],
      "metadata": {
        "nteract": {
          "transient": {
            "deleting": false
          }
        }
      }
    },
    {
      "cell_type": "code",
      "source": [
        "# bery deep, wider field\n",
        "s0 = 100e-9\n",
        "a0 = 30\n",
        "o0 = 1.25\n",
        "hrs_deepepoch = surveytime('DSA', s0, a0, o0)/e_observing\n",
        "# fraction of time defines number of gw follow-up fields\n",
        "n_deepepoch = (frac_deep*hrsperyr_onsky)/hrs_deepepoch\n",
        "print(f\"{hrs_deepepoch:.1f} hrs ({n_deepepoch:.2f} of field per year) on deep field of {a0} deg2 to depth {s0} Jy\")\n",
        "\n",
        "nfield_deep = 3\n",
        "rate5 = nfield_deep*nbands*bytes_field/(frac_deep*hrsperyr_onsky)\n",
        "print(f\"{rate5/1e9:0.4f} GB/hr averaged over year with {nbands} bands\")"
      ],
      "outputs": [
        {
          "output_type": "stream",
          "name": "stdout",
          "text": [
            "915.5 hrs (0.38 of field per year) on deep field of 30 deg2 to depth 1e-07 Jy\n",
            "0.0230 GB/hr averaged over year with 10 bands\n"
          ]
        }
      ],
      "execution_count": 19,
      "metadata": {
        "collapsed": true,
        "jupyter": {
          "source_hidden": false,
          "outputs_hidden": false
        },
        "nteract": {
          "transient": {
            "deleting": false
          }
        },
        "execution": {
          "iopub.status.busy": "2022-04-24T01:45:24.726Z",
          "iopub.execute_input": "2022-04-24T01:45:24.739Z",
          "iopub.status.idle": "2022-04-24T01:45:24.758Z",
          "shell.execute_reply": "2022-04-24T01:45:25.146Z"
        }
      }
    },
    {
      "cell_type": "markdown",
      "source": [
        "### Mid rate: DR6"
      ],
      "metadata": {
        "nteract": {
          "transient": {
            "deleting": false
          }
        }
      }
    },
    {
      "cell_type": "code",
      "source": [
        "# commensal imaging on PTA\n",
        "hrs_ptaepoch = frac_pta*hrsperyr_onsky\n",
        "n_pta = 200\n",
        "\n",
        "rate6 = nbands*bytes_field*n_pta/hrsperyr_onsky\n",
        "print(f\"{rate6/1e9} GB/hr averaged over year with {nbands} bands on {n_pta} targets.\")"
      ],
      "outputs": [
        {
          "output_type": "stream",
          "name": "stdout",
          "text": [
            "0.07655795276165443 GB/hr averaged over year with 10 bands on 200 targets.\n"
          ]
        }
      ],
      "execution_count": 20,
      "metadata": {
        "collapsed": true,
        "jupyter": {
          "source_hidden": false,
          "outputs_hidden": false
        },
        "nteract": {
          "transient": {
            "deleting": false
          }
        },
        "execution": {
          "iopub.status.busy": "2022-04-24T01:45:24.770Z",
          "iopub.execute_input": "2022-04-24T01:45:24.776Z",
          "iopub.status.idle": "2022-04-24T01:45:24.792Z",
          "shell.execute_reply": "2022-04-24T01:45:25.151Z"
        }
      }
    },
    {
      "cell_type": "markdown",
      "source": [
        "### PTA rate: DR7"
      ],
      "metadata": {
        "nteract": {
          "transient": {
            "deleting": false
          }
        }
      }
    },
    {
      "cell_type": "code",
      "source": [
        "# Stokes profile assumptions\n",
        "# 1 sec resolution over 30 min\n",
        "# 2048 phase bins across 1.4 and ~20 ms\n",
        "# 2.048 MHz channels across 1.3 GHz band\n",
        "# 4 stokes parameters\n",
        "# 1 of four beams used on average\n",
        "# 32b floats\n",
        "# 200 targets with 1 month cadence\n",
        "# total data: [phase]*[freq]*[time]*[pol]*[beam]\n",
        "\n",
        "bytes_ptasample = 1*4*4*2048*(1300/2.048)  # a sample size\n",
        "rate7 = bytes_ptasample * hrs_ptaepoch/(1/3600)/hrsperyr_onsky\n",
        "print(f\"{rate7/1e9:.1f} GB/hr averaged over year for {hrs_ptaepoch:.1f} hrs. ({bytes_ptasample*1800/1e9:.1f} GB per 30min session)\")"
      ],
      "outputs": [
        {
          "output_type": "stream",
          "name": "stdout",
          "text": [
            "18.7 GB/hr averaged over year for 1753.2 hrs. (37.4 GB per 30min session)\n"
          ]
        }
      ],
      "execution_count": 21,
      "metadata": {
        "collapsed": true,
        "jupyter": {
          "source_hidden": false,
          "outputs_hidden": false
        },
        "nteract": {
          "transient": {
            "deleting": false
          }
        },
        "execution": {
          "iopub.status.busy": "2022-04-24T01:45:24.805Z",
          "iopub.execute_input": "2022-04-24T01:45:24.814Z",
          "iopub.status.idle": "2022-04-24T01:45:24.832Z",
          "shell.execute_reply": "2022-04-24T01:45:25.157Z"
        }
      }
    },
    {
      "cell_type": "markdown",
      "source": [
        "### Periodicity search rate: DR8"
      ],
      "metadata": {
        "nteract": {
          "transient": {
            "deleting": false
          }
        }
      }
    },
    {
      "cell_type": "code",
      "source": [
        "# per source: 9 beams, 4B, full stokes, 100 microsec samples, 4 sec total, 2500 channels\n",
        "bytes_psrsample = 4*9*4*(4/0.1)*2500\n",
        "npsr = 1400+14000  # from Myles, per CASS epoch\n",
        "rate8 = bytes_psrsample*npsr/hrs_cassepoch/frac_cass  # assume most sources found in CASS\n",
        "print(f\"{rate8/1e9:.1f} GB/hr averaged over year for {npsr} PSR detections during CASS\")"
      ],
      "outputs": [
        {
          "output_type": "stream",
          "name": "stdout",
          "text": [
            "0.1 GB/hr averaged over year for 15400 PSR detections during CASS\n"
          ]
        }
      ],
      "execution_count": 22,
      "metadata": {
        "collapsed": true,
        "jupyter": {
          "source_hidden": false,
          "outputs_hidden": false
        },
        "nteract": {
          "transient": {
            "deleting": false
          }
        },
        "execution": {
          "iopub.status.busy": "2022-04-24T01:45:24.842Z",
          "iopub.execute_input": "2022-04-24T01:45:24.848Z",
          "iopub.status.idle": "2022-04-24T01:45:24.868Z",
          "shell.execute_reply": "2022-04-24T01:45:25.162Z"
        }
      }
    },
    {
      "cell_type": "markdown",
      "source": [
        "### Single-pulse search rate: DR9"
      ],
      "metadata": {
        "nteract": {
          "transient": {
            "deleting": false
          }
        }
      }
    },
    {
      "cell_type": "code",
      "source": [
        "# power trigger per source: 9 beams, 4B, full stokes, 100 microsec samples, 4 sec total, 2500 channels\n",
        "# voltage trigger per source: 4000 ants, 4.4 Gsps, 100 msec (dedispersed cutout)\n",
        "\n",
        "nfrb = 2000  # Liam estimates range of 800-4000/yr\n",
        "bytes_voltagesample = 4.4e9 * 4000 * 1e-1\n",
        "\n",
        "rate9 = nfrb*(bytes_psrsample + bytes_voltagesample)/hrs_cassepoch/frac_cass\n",
        "print(f\"{rate9/1e9:.1f} GB/hr averaged over year for {nfrb} FRB detections during CASS. Power trigger are {bytes_psrsample/bytes_voltagesample:.1e} of voltage trigger\")\n"
      ],
      "outputs": [
        {
          "output_type": "stream",
          "name": "stdout",
          "text": [
            "2366.0 GB/hr averaged over year for 2000 FRB detections during CASS. Power trigger are 8.2e-06 of voltage trigger\n"
          ]
        }
      ],
      "execution_count": 23,
      "metadata": {
        "collapsed": true,
        "jupyter": {
          "source_hidden": false,
          "outputs_hidden": false
        },
        "nteract": {
          "transient": {
            "deleting": false
          }
        },
        "execution": {
          "iopub.status.busy": "2022-04-24T01:45:24.884Z",
          "iopub.execute_input": "2022-04-24T01:45:24.893Z",
          "iopub.status.idle": "2022-04-24T01:45:24.946Z",
          "shell.execute_reply": "2022-04-24T01:45:25.167Z"
        }
      }
    },
    {
      "cell_type": "markdown",
      "source": [
        "### Summary"
      ],
      "metadata": {
        "nteract": {
          "transient": {
            "deleting": false
          }
        }
      }
    },
    {
      "cell_type": "code",
      "source": [
        "rates = [rate1, rate2, rate3, rate4, rate5, rate6, rate7, rate8, rate9]\n",
        "ratesum = sum(rates)\n",
        "print(\"Fractional contribution to rate per year:\")\n",
        "print(f\"1: {rate1/ratesum:.1e}, 2: {rate2/ratesum:.1e}, 3: {rate3/ratesum:.1e}, 4: {rate4/ratesum:.1e}, 5: {rate5/ratesum:.1e}, 6: {rate6/ratesum:.1e}, 7: {rate7/ratesum:.1e}, 8: {rate8/ratesum:.1e}, 9: {rate9/ratesum:.1e}\")\n",
        "print(\"GB/hr over year:\")\n",
        "print(f\"1: {rate1/1e9:.1e}, 2: {rate2/1e9:.1e}, 3: {rate3/1e9:.1e}, 4: {rate4/1e9:.1e}, 5: {rate5/1e9:.1e}, 6: {rate6/1e9:.1e}, 7: {rate7/1e9:.1e}, 8: {rate8/1e9:.1e}, 9: {rate9/1e9:.1e}\") "
      ],
      "outputs": [
        {
          "output_type": "stream",
          "name": "stdout",
          "text": [
            "Fractional contribution to rate per year:\n",
            "1: 8.6e-04, 2: 5.3e-01, 3: 3.5e-01, 4: 2.3e-06, 5: 1.2e-06, 6: 3.9e-06, 7: 9.6e-04, 8: 7.7e-06, 9: 1.2e-01\n",
            "GB/hr over year:\n",
            "1: 1.7e+01, 2: 1.0e+04, 3: 6.8e+03, 4: 4.4e-02, 5: 2.3e-02, 6: 7.7e-02, 7: 1.9e+01, 8: 1.5e-01, 9: 2.4e+03\n"
          ]
        }
      ],
      "execution_count": 24,
      "metadata": {
        "collapsed": true,
        "jupyter": {
          "source_hidden": false,
          "outputs_hidden": false
        },
        "nteract": {
          "transient": {
            "deleting": false
          }
        },
        "execution": {
          "iopub.status.busy": "2022-04-24T01:45:24.959Z",
          "iopub.execute_input": "2022-04-24T01:45:24.968Z",
          "iopub.status.idle": "2022-04-24T01:45:24.994Z",
          "shell.execute_reply": "2022-04-24T01:45:25.172Z"
        }
      }
    },
    {
      "cell_type": "code",
      "source": [
        "print(f\"{ratesum*hrsperyr_onsky * 5/1e15:.1f} PB over 5 yrs\")"
      ],
      "outputs": [
        {
          "output_type": "stream",
          "name": "stdout",
          "text": [
            "681.3 PB over 5 yrs\n"
          ]
        }
      ],
      "execution_count": 25,
      "metadata": {
        "collapsed": true,
        "jupyter": {
          "source_hidden": false,
          "outputs_hidden": false
        },
        "nteract": {
          "transient": {
            "deleting": false
          }
        },
        "execution": {
          "iopub.status.busy": "2022-04-24T01:45:25.007Z",
          "iopub.execute_input": "2022-04-24T01:45:25.015Z",
          "iopub.status.idle": "2022-04-24T01:45:25.033Z",
          "shell.execute_reply": "2022-04-24T01:45:25.177Z"
        }
      }
    },
    {
      "cell_type": "code",
      "source": [],
      "outputs": [],
      "execution_count": null,
      "metadata": {
        "collapsed": true,
        "jupyter": {
          "source_hidden": false,
          "outputs_hidden": false
        },
        "nteract": {
          "transient": {
            "deleting": false
          }
        }
      }
    }
  ],
  "metadata": {
    "kernelspec": {
      "display_name": "py37",
      "language": "python",
      "name": "py37"
    },
    "language_info": {
      "name": "python",
      "version": "3.8.12",
      "mimetype": "text/x-python",
      "codemirror_mode": {
        "name": "ipython",
        "version": 3
      },
      "pygments_lexer": "ipython3",
      "nbconvert_exporter": "python",
      "file_extension": ".py"
    },
    "nteract": {
      "version": "0.28.0"
    }
  },
  "nbformat": 4,
  "nbformat_minor": 1
}